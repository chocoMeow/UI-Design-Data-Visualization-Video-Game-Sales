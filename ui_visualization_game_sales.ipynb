{
 "cells": [
  {
   "cell_type": "code",
   "execution_count": 1,
   "id": "0d9334ed-3922-4769-b263-f71d878d4259",
   "metadata": {},
   "outputs": [
    {
     "name": "stderr",
     "output_type": "stream",
     "text": [
      "Registered S3 methods overwritten by 'ggplot2':\n",
      "  method         from \n",
      "  [.quosures     rlang\n",
      "  c.quosures     rlang\n",
      "  print.quosures rlang\n",
      "Registered S3 method overwritten by 'rvest':\n",
      "  method            from\n",
      "  read_xml.response xml2\n",
      "-- Attaching packages --------------------------------------- tidyverse 1.2.1 --\n",
      "v ggplot2 3.1.1       v purrr   0.3.2  \n",
      "v tibble  2.1.1       v dplyr   0.8.0.1\n",
      "v tidyr   0.8.3       v stringr 1.4.0  \n",
      "v readr   1.3.1       v forcats 0.4.0  \n",
      "-- Conflicts ------------------------------------------ tidyverse_conflicts() --\n",
      "x dplyr::filter() masks stats::filter()\n",
      "x dplyr::lag()    masks stats::lag()\n",
      "Warning message:\n",
      "\"package 'ggmap' was built under R version 3.6.3\"Google's Terms of Service: https://cloud.google.com/maps-platform/terms/.\n",
      "Please cite ggmap if you use it! See citation(\"ggmap\") for details.\n",
      "Warning message:\n",
      "\"package 'sf' was built under R version 3.6.3\"Linking to GEOS 3.9.0, GDAL 3.2.1, PROJ 7.2.1\n",
      "\n",
      "Attaching package: 'reshape2'\n",
      "\n",
      "The following object is masked from 'package:tidyr':\n",
      "\n",
      "    smiths\n",
      "\n",
      "Warning message:\n",
      "\"package 'shinythemes' was built under R version 3.6.3\"\n",
      "Attaching package: 'plotly'\n",
      "\n",
      "The following object is masked from 'package:ggmap':\n",
      "\n",
      "    wind\n",
      "\n",
      "The following object is masked from 'package:ggplot2':\n",
      "\n",
      "    last_plot\n",
      "\n",
      "The following object is masked from 'package:stats':\n",
      "\n",
      "    filter\n",
      "\n",
      "The following object is masked from 'package:graphics':\n",
      "\n",
      "    layout\n",
      "\n"
     ]
    }
   ],
   "source": [
    "#import libraries\n",
    "#conda install -c r r-essentials\n",
    "library(tidyverse)\n",
    "library(stringr)\n",
    "library(dplyr)\n",
    "library(ggplot2)\n",
    "library(ggmap) #conda install -c conda-forge r-ggmap\n",
    "library(sf) #conda install -c conda-forge r-sf\n",
    "library(reshape2)\n",
    "library(shiny)\n",
    "library(shinythemes) #conda install -c conda-forge r-shinythemes\n",
    "library(plotly)"
   ]
  },
  {
   "cell_type": "code",
   "execution_count": 2,
   "id": "df5bd61f-0ef4-4ff4-a655-75897fa3aa5e",
   "metadata": {},
   "outputs": [
    {
     "name": "stderr",
     "output_type": "stream",
     "text": [
      "Parsed with column specification:\n",
      "cols(\n",
      "  Rank = col_double(),\n",
      "  Name = col_character(),\n",
      "  Platform = col_character(),\n",
      "  Year = col_character(),\n",
      "  Genre = col_character(),\n",
      "  Publisher = col_character(),\n",
      "  NA_Sales = col_double(),\n",
      "  EU_Sales = col_double(),\n",
      "  JP_Sales = col_double(),\n",
      "  Other_Sales = col_double(),\n",
      "  Global_Sales = col_double()\n",
      ")\n"
     ]
    },
    {
     "data": {
      "text/html": [
       "<table>\n",
       "<thead><tr><th scope=col>Rank</th><th scope=col>Name</th><th scope=col>Platform</th><th scope=col>Year</th><th scope=col>Genre</th><th scope=col>Publisher</th><th scope=col>NA_Sales</th><th scope=col>EU_Sales</th><th scope=col>JP_Sales</th><th scope=col>Other_Sales</th><th scope=col>Global_Sales</th></tr></thead>\n",
       "<tbody>\n",
       "\t<tr><td>1                       </td><td>Wii Sports              </td><td>Wii                     </td><td>2006                    </td><td>Sports                  </td><td>Nintendo                </td><td>41.49                   </td><td>29.02                   </td><td> 3.77                   </td><td>8.46                    </td><td>82.74                   </td></tr>\n",
       "\t<tr><td>2                       </td><td>Super Mario Bros.       </td><td>NES                     </td><td>1985                    </td><td>Platform                </td><td>Nintendo                </td><td>29.08                   </td><td> 3.58                   </td><td> 6.81                   </td><td>0.77                    </td><td>40.24                   </td></tr>\n",
       "\t<tr><td>3                       </td><td>Mario Kart Wii          </td><td>Wii                     </td><td>2008                    </td><td>Racing                  </td><td>Nintendo                </td><td>15.85                   </td><td>12.88                   </td><td> 3.79                   </td><td>3.31                    </td><td>35.82                   </td></tr>\n",
       "\t<tr><td>4                       </td><td>Wii Sports Resort       </td><td>Wii                     </td><td>2009                    </td><td>Sports                  </td><td>Nintendo                </td><td>15.75                   </td><td>11.01                   </td><td> 3.28                   </td><td>2.96                    </td><td>33.00                   </td></tr>\n",
       "\t<tr><td>5                       </td><td>Pokemon Red/Pokemon Blue</td><td>GB                      </td><td>1996                    </td><td>Role-Playing            </td><td>Nintendo                </td><td>11.27                   </td><td> 8.89                   </td><td>10.22                   </td><td>1.00                    </td><td>31.37                   </td></tr>\n",
       "\t<tr><td>6                       </td><td>Tetris                  </td><td>GB                      </td><td>1989                    </td><td>Puzzle                  </td><td>Nintendo                </td><td>23.20                   </td><td> 2.26                   </td><td> 4.22                   </td><td>0.58                    </td><td>30.26                   </td></tr>\n",
       "</tbody>\n",
       "</table>\n"
      ],
      "text/latex": [
       "\\begin{tabular}{r|lllllllllll}\n",
       " Rank & Name & Platform & Year & Genre & Publisher & NA\\_Sales & EU\\_Sales & JP\\_Sales & Other\\_Sales & Global\\_Sales\\\\\n",
       "\\hline\n",
       "\t 1                        & Wii Sports               & Wii                      & 2006                     & Sports                   & Nintendo                 & 41.49                    & 29.02                    &  3.77                    & 8.46                     & 82.74                   \\\\\n",
       "\t 2                        & Super Mario Bros.        & NES                      & 1985                     & Platform                 & Nintendo                 & 29.08                    &  3.58                    &  6.81                    & 0.77                     & 40.24                   \\\\\n",
       "\t 3                        & Mario Kart Wii           & Wii                      & 2008                     & Racing                   & Nintendo                 & 15.85                    & 12.88                    &  3.79                    & 3.31                     & 35.82                   \\\\\n",
       "\t 4                        & Wii Sports Resort        & Wii                      & 2009                     & Sports                   & Nintendo                 & 15.75                    & 11.01                    &  3.28                    & 2.96                     & 33.00                   \\\\\n",
       "\t 5                        & Pokemon Red/Pokemon Blue & GB                       & 1996                     & Role-Playing             & Nintendo                 & 11.27                    &  8.89                    & 10.22                    & 1.00                     & 31.37                   \\\\\n",
       "\t 6                        & Tetris                   & GB                       & 1989                     & Puzzle                   & Nintendo                 & 23.20                    &  2.26                    &  4.22                    & 0.58                     & 30.26                   \\\\\n",
       "\\end{tabular}\n"
      ],
      "text/markdown": [
       "\n",
       "| Rank | Name | Platform | Year | Genre | Publisher | NA_Sales | EU_Sales | JP_Sales | Other_Sales | Global_Sales |\n",
       "|---|---|---|---|---|---|---|---|---|---|---|\n",
       "| 1                        | Wii Sports               | Wii                      | 2006                     | Sports                   | Nintendo                 | 41.49                    | 29.02                    |  3.77                    | 8.46                     | 82.74                    |\n",
       "| 2                        | Super Mario Bros.        | NES                      | 1985                     | Platform                 | Nintendo                 | 29.08                    |  3.58                    |  6.81                    | 0.77                     | 40.24                    |\n",
       "| 3                        | Mario Kart Wii           | Wii                      | 2008                     | Racing                   | Nintendo                 | 15.85                    | 12.88                    |  3.79                    | 3.31                     | 35.82                    |\n",
       "| 4                        | Wii Sports Resort        | Wii                      | 2009                     | Sports                   | Nintendo                 | 15.75                    | 11.01                    |  3.28                    | 2.96                     | 33.00                    |\n",
       "| 5                        | Pokemon Red/Pokemon Blue | GB                       | 1996                     | Role-Playing             | Nintendo                 | 11.27                    |  8.89                    | 10.22                    | 1.00                     | 31.37                    |\n",
       "| 6                        | Tetris                   | GB                       | 1989                     | Puzzle                   | Nintendo                 | 23.20                    |  2.26                    |  4.22                    | 0.58                     | 30.26                    |\n",
       "\n"
      ],
      "text/plain": [
       "  Rank Name                     Platform Year Genre        Publisher NA_Sales\n",
       "1 1    Wii Sports               Wii      2006 Sports       Nintendo  41.49   \n",
       "2 2    Super Mario Bros.        NES      1985 Platform     Nintendo  29.08   \n",
       "3 3    Mario Kart Wii           Wii      2008 Racing       Nintendo  15.85   \n",
       "4 4    Wii Sports Resort        Wii      2009 Sports       Nintendo  15.75   \n",
       "5 5    Pokemon Red/Pokemon Blue GB       1996 Role-Playing Nintendo  11.27   \n",
       "6 6    Tetris                   GB       1989 Puzzle       Nintendo  23.20   \n",
       "  EU_Sales JP_Sales Other_Sales Global_Sales\n",
       "1 29.02     3.77    8.46        82.74       \n",
       "2  3.58     6.81    0.77        40.24       \n",
       "3 12.88     3.79    3.31        35.82       \n",
       "4 11.01     3.28    2.96        33.00       \n",
       "5  8.89    10.22    1.00        31.37       \n",
       "6  2.26     4.22    0.58        30.26       "
      ]
     },
     "metadata": {},
     "output_type": "display_data"
    }
   ],
   "source": [
    "#import game sales data\n",
    "raw_sales <- read_csv('./vgsales.csv')\n",
    "head(raw_sales)"
   ]
  },
  {
   "cell_type": "code",
   "execution_count": 3,
   "id": "63a1a9d4-ed99-4fb7-9563-36b067f7cbdb",
   "metadata": {},
   "outputs": [
    {
     "data": {
      "text/html": [
       "<table>\n",
       "<thead><tr><th scope=col>Rank</th><th scope=col>Name</th><th scope=col>Platform</th><th scope=col>Year</th><th scope=col>Genre</th><th scope=col>Publisher</th><th scope=col>NA_Sales</th><th scope=col>EU_Sales</th><th scope=col>JP_Sales</th><th scope=col>Other_Sales</th><th scope=col>Global_Sales</th></tr></thead>\n",
       "<tbody>\n",
       "\t<tr><td> 259           </td><td>Asteroids      </td><td>2600           </td><td>1980           </td><td>Shooter        </td><td>Atari          </td><td>4.00           </td><td>0.26           </td><td>0              </td><td>0.05           </td><td>4.31           </td></tr>\n",
       "\t<tr><td> 545           </td><td>Missile Command</td><td>2600           </td><td>1980           </td><td>Shooter        </td><td>Atari          </td><td>2.56           </td><td>0.17           </td><td>0              </td><td>0.03           </td><td>2.76           </td></tr>\n",
       "\t<tr><td>1768           </td><td>Kaboom!        </td><td>2600           </td><td>1980           </td><td>Misc           </td><td>Activision     </td><td>1.07           </td><td>0.07           </td><td>0              </td><td>0.01           </td><td>1.15           </td></tr>\n",
       "\t<tr><td>1971           </td><td>Defender       </td><td>2600           </td><td>1980           </td><td>Misc           </td><td>Atari          </td><td>0.99           </td><td>0.05           </td><td>0              </td><td>0.01           </td><td>1.05           </td></tr>\n",
       "\t<tr><td>2671           </td><td>Boxing         </td><td>2600           </td><td>1980           </td><td>Fighting       </td><td>Activision     </td><td>0.72           </td><td>0.04           </td><td>0              </td><td>0.01           </td><td>0.77           </td></tr>\n",
       "\t<tr><td>4027           </td><td>Ice Hockey     </td><td>2600           </td><td>1980           </td><td>Sports         </td><td>Activision     </td><td>0.46           </td><td>0.03           </td><td>0              </td><td>0.01           </td><td>0.49           </td></tr>\n",
       "</tbody>\n",
       "</table>\n"
      ],
      "text/latex": [
       "\\begin{tabular}{r|lllllllllll}\n",
       " Rank & Name & Platform & Year & Genre & Publisher & NA\\_Sales & EU\\_Sales & JP\\_Sales & Other\\_Sales & Global\\_Sales\\\\\n",
       "\\hline\n",
       "\t  259            & Asteroids       & 2600            & 1980            & Shooter         & Atari           & 4.00            & 0.26            & 0               & 0.05            & 4.31           \\\\\n",
       "\t  545            & Missile Command & 2600            & 1980            & Shooter         & Atari           & 2.56            & 0.17            & 0               & 0.03            & 2.76           \\\\\n",
       "\t 1768            & Kaboom!         & 2600            & 1980            & Misc            & Activision      & 1.07            & 0.07            & 0               & 0.01            & 1.15           \\\\\n",
       "\t 1971            & Defender        & 2600            & 1980            & Misc            & Atari           & 0.99            & 0.05            & 0               & 0.01            & 1.05           \\\\\n",
       "\t 2671            & Boxing          & 2600            & 1980            & Fighting        & Activision      & 0.72            & 0.04            & 0               & 0.01            & 0.77           \\\\\n",
       "\t 4027            & Ice Hockey      & 2600            & 1980            & Sports          & Activision      & 0.46            & 0.03            & 0               & 0.01            & 0.49           \\\\\n",
       "\\end{tabular}\n"
      ],
      "text/markdown": [
       "\n",
       "| Rank | Name | Platform | Year | Genre | Publisher | NA_Sales | EU_Sales | JP_Sales | Other_Sales | Global_Sales |\n",
       "|---|---|---|---|---|---|---|---|---|---|---|\n",
       "|  259            | Asteroids       | 2600            | 1980            | Shooter         | Atari           | 4.00            | 0.26            | 0               | 0.05            | 4.31            |\n",
       "|  545            | Missile Command | 2600            | 1980            | Shooter         | Atari           | 2.56            | 0.17            | 0               | 0.03            | 2.76            |\n",
       "| 1768            | Kaboom!         | 2600            | 1980            | Misc            | Activision      | 1.07            | 0.07            | 0               | 0.01            | 1.15            |\n",
       "| 1971            | Defender        | 2600            | 1980            | Misc            | Atari           | 0.99            | 0.05            | 0               | 0.01            | 1.05            |\n",
       "| 2671            | Boxing          | 2600            | 1980            | Fighting        | Activision      | 0.72            | 0.04            | 0               | 0.01            | 0.77            |\n",
       "| 4027            | Ice Hockey      | 2600            | 1980            | Sports          | Activision      | 0.46            | 0.03            | 0               | 0.01            | 0.49            |\n",
       "\n"
      ],
      "text/plain": [
       "  Rank Name            Platform Year Genre    Publisher  NA_Sales EU_Sales\n",
       "1  259 Asteroids       2600     1980 Shooter  Atari      4.00     0.26    \n",
       "2  545 Missile Command 2600     1980 Shooter  Atari      2.56     0.17    \n",
       "3 1768 Kaboom!         2600     1980 Misc     Activision 1.07     0.07    \n",
       "4 1971 Defender        2600     1980 Misc     Atari      0.99     0.05    \n",
       "5 2671 Boxing          2600     1980 Fighting Activision 0.72     0.04    \n",
       "6 4027 Ice Hockey      2600     1980 Sports   Activision 0.46     0.03    \n",
       "  JP_Sales Other_Sales Global_Sales\n",
       "1 0        0.05        4.31        \n",
       "2 0        0.03        2.76        \n",
       "3 0        0.01        1.15        \n",
       "4 0        0.01        1.05        \n",
       "5 0        0.01        0.77        \n",
       "6 0        0.01        0.49        "
      ]
     },
     "metadata": {},
     "output_type": "display_data"
    }
   ],
   "source": [
    "#sort the sales by year\n",
    "raw_sales <- raw_sales[order(raw_sales$Year),]\n",
    "head(raw_sales)"
   ]
  },
  {
   "cell_type": "code",
   "execution_count": 4,
   "id": "61d2a067-e7b2-4562-ac40-6333be866222",
   "metadata": {},
   "outputs": [
    {
     "data": {
      "text/html": [],
      "text/latex": [],
      "text/markdown": [],
      "text/plain": [
       "character(0)"
      ]
     },
     "metadata": {},
     "output_type": "display_data"
    }
   ],
   "source": [
    "#check if there is any null\n",
    "colnames(raw_sales)[apply(raw_sales, 2, anyNA)]"
   ]
  },
  {
   "cell_type": "code",
   "execution_count": 5,
   "id": "f1e1c23e-e559-48e5-8e5f-8c367f38ff2f",
   "metadata": {},
   "outputs": [
    {
     "name": "stderr",
     "output_type": "stream",
     "text": [
      "Parsed with column specification:\n",
      "cols(\n",
      "  Name = col_character(),\n",
      "  Pop = col_double(),\n",
      "  WorldPop = col_double(),\n",
      "  GrowthRate = col_double(),\n",
      "  PopDensity = col_double()\n",
      ")\n"
     ]
    },
    {
     "data": {
      "text/html": [
       "<table>\n",
       "<thead><tr><th scope=col>Name</th><th scope=col>Pop</th><th scope=col>WorldPop</th><th scope=col>GrowthRate</th><th scope=col>PopDensity</th></tr></thead>\n",
       "<tbody>\n",
       "\t<tr><td>Asia         </td><td>4678445024   </td><td>0.5941       </td><td>0.0083       </td><td>145.5730     </td></tr>\n",
       "\t<tr><td>Africa       </td><td>1373480428   </td><td>0.1744       </td><td>0.0245       </td><td> 45.3024     </td></tr>\n",
       "\t<tr><td>Europe       </td><td> 748787739   </td><td>0.0951       </td><td>0.0002       </td><td> 32.5236     </td></tr>\n",
       "\t<tr><td>North America</td><td> 596564730   </td><td>0.0758       </td><td>0.0076       </td><td> 24.6065     </td></tr>\n",
       "\t<tr><td>South America</td><td> 434260151   </td><td>0.0551       </td><td>0.0081       </td><td> 24.3456     </td></tr>\n",
       "\t<tr><td>Oceania      </td><td>  43219970   </td><td>0.0055       </td><td>0.0127       </td><td>  5.0756     </td></tr>\n",
       "</tbody>\n",
       "</table>\n"
      ],
      "text/latex": [
       "\\begin{tabular}{r|lllll}\n",
       " Name & Pop & WorldPop & GrowthRate & PopDensity\\\\\n",
       "\\hline\n",
       "\t Asia          & 4678445024    & 0.5941        & 0.0083        & 145.5730     \\\\\n",
       "\t Africa        & 1373480428    & 0.1744        & 0.0245        &  45.3024     \\\\\n",
       "\t Europe        &  748787739    & 0.0951        & 0.0002        &  32.5236     \\\\\n",
       "\t North America &  596564730    & 0.0758        & 0.0076        &  24.6065     \\\\\n",
       "\t South America &  434260151    & 0.0551        & 0.0081        &  24.3456     \\\\\n",
       "\t Oceania       &   43219970    & 0.0055        & 0.0127        &   5.0756     \\\\\n",
       "\\end{tabular}\n"
      ],
      "text/markdown": [
       "\n",
       "| Name | Pop | WorldPop | GrowthRate | PopDensity |\n",
       "|---|---|---|---|---|\n",
       "| Asia          | 4678445024    | 0.5941        | 0.0083        | 145.5730      |\n",
       "| Africa        | 1373480428    | 0.1744        | 0.0245        |  45.3024      |\n",
       "| Europe        |  748787739    | 0.0951        | 0.0002        |  32.5236      |\n",
       "| North America |  596564730    | 0.0758        | 0.0076        |  24.6065      |\n",
       "| South America |  434260151    | 0.0551        | 0.0081        |  24.3456      |\n",
       "| Oceania       |   43219970    | 0.0055        | 0.0127        |   5.0756      |\n",
       "\n"
      ],
      "text/plain": [
       "  Name          Pop        WorldPop GrowthRate PopDensity\n",
       "1 Asia          4678445024 0.5941   0.0083     145.5730  \n",
       "2 Africa        1373480428 0.1744   0.0245      45.3024  \n",
       "3 Europe         748787739 0.0951   0.0002      32.5236  \n",
       "4 North America  596564730 0.0758   0.0076      24.6065  \n",
       "5 South America  434260151 0.0551   0.0081      24.3456  \n",
       "6 Oceania         43219970 0.0055   0.0127       5.0756  "
      ]
     },
     "metadata": {},
     "output_type": "display_data"
    }
   ],
   "source": [
    "#import population data for each continent\n",
    "continent_population <- read_csv('./continent_population.csv')\n",
    "head(continent_population)"
   ]
  },
  {
   "cell_type": "code",
   "execution_count": 6,
   "id": "20003045-8b63-4054-bdf8-3967971b77ca",
   "metadata": {},
   "outputs": [
    {
     "name": "stderr",
     "output_type": "stream",
     "text": [
      "Parsed with column specification:\n",
      "cols(\n",
      "  Country = col_character(),\n",
      "  Population = col_double(),\n",
      "  `Yearly Change` = col_character(),\n",
      "  `Net Change` = col_double(),\n",
      "  Density = col_double(),\n",
      "  `Land Area` = col_double(),\n",
      "  Migrants = col_double(),\n",
      "  `Fert. Rate` = col_character(),\n",
      "  `Med. Age` = col_character(),\n",
      "  `Urban Pop` = col_character(),\n",
      "  `World Share` = col_character()\n",
      ")\n"
     ]
    },
    {
     "data": {
      "text/html": [
       "<table>\n",
       "<thead><tr><th scope=col>Country</th><th scope=col>Population</th><th scope=col>Yearly Change</th><th scope=col>Net Change</th><th scope=col>Density</th><th scope=col>Land Area</th><th scope=col>Migrants</th><th scope=col>Fert. Rate</th><th scope=col>Med. Age</th><th scope=col>Urban Pop</th><th scope=col>World Share</th></tr></thead>\n",
       "<tbody>\n",
       "\t<tr><td>China        </td><td>1440297825   </td><td>0.39%        </td><td> 5540090     </td><td>153          </td><td>9388211      </td><td>-348399      </td><td>1.7          </td><td>38           </td><td>61%          </td><td>18.47%       </td></tr>\n",
       "\t<tr><td>India        </td><td>1382345085   </td><td>0.99%        </td><td>13586631     </td><td>464          </td><td>2973190      </td><td>-532687      </td><td>2.2          </td><td>28           </td><td>35%          </td><td>17.70%       </td></tr>\n",
       "\t<tr><td>United States</td><td> 331341050   </td><td>0.59%        </td><td> 1937734     </td><td> 36          </td><td>9147420      </td><td> 954806      </td><td>1.8          </td><td>38           </td><td>83%          </td><td>4.25%        </td></tr>\n",
       "\t<tr><td>Indonesia    </td><td> 274021604   </td><td>1.07%        </td><td> 2898047     </td><td>151          </td><td>1811570      </td><td> -98955      </td><td>2.3          </td><td>30           </td><td>56%          </td><td>3.51%        </td></tr>\n",
       "\t<tr><td>Pakistan     </td><td> 221612785   </td><td>2.00%        </td><td> 4327022     </td><td>287          </td><td> 770880      </td><td>-233379      </td><td>3.6          </td><td>23           </td><td>35%          </td><td>2.83%        </td></tr>\n",
       "\t<tr><td>Brazil       </td><td> 212821986   </td><td>0.72%        </td><td> 1509890     </td><td> 25          </td><td>8358140      </td><td>  21200      </td><td>1.7          </td><td>33           </td><td>88%          </td><td>2.73%        </td></tr>\n",
       "</tbody>\n",
       "</table>\n"
      ],
      "text/latex": [
       "\\begin{tabular}{r|lllllllllll}\n",
       " Country & Population & Yearly Change & Net Change & Density & Land Area & Migrants & Fert. Rate & Med. Age & Urban Pop & World Share\\\\\n",
       "\\hline\n",
       "\t China         & 1440297825    & 0.39\\%       &  5540090      & 153           & 9388211       & -348399       & 1.7           & 38            & 61\\%         & 18.47\\%     \\\\\n",
       "\t India         & 1382345085    & 0.99\\%       & 13586631      & 464           & 2973190       & -532687       & 2.2           & 28            & 35\\%         & 17.70\\%     \\\\\n",
       "\t United States &  331341050    & 0.59\\%       &  1937734      &  36           & 9147420       &  954806       & 1.8           & 38            & 83\\%         & 4.25\\%      \\\\\n",
       "\t Indonesia     &  274021604    & 1.07\\%       &  2898047      & 151           & 1811570       &  -98955       & 2.3           & 30            & 56\\%         & 3.51\\%      \\\\\n",
       "\t Pakistan      &  221612785    & 2.00\\%       &  4327022      & 287           &  770880       & -233379       & 3.6           & 23            & 35\\%         & 2.83\\%      \\\\\n",
       "\t Brazil        &  212821986    & 0.72\\%       &  1509890      &  25           & 8358140       &   21200       & 1.7           & 33            & 88\\%         & 2.73\\%      \\\\\n",
       "\\end{tabular}\n"
      ],
      "text/markdown": [
       "\n",
       "| Country | Population | Yearly Change | Net Change | Density | Land Area | Migrants | Fert. Rate | Med. Age | Urban Pop | World Share |\n",
       "|---|---|---|---|---|---|---|---|---|---|---|\n",
       "| China         | 1440297825    | 0.39%         |  5540090      | 153           | 9388211       | -348399       | 1.7           | 38            | 61%           | 18.47%        |\n",
       "| India         | 1382345085    | 0.99%         | 13586631      | 464           | 2973190       | -532687       | 2.2           | 28            | 35%           | 17.70%        |\n",
       "| United States |  331341050    | 0.59%         |  1937734      |  36           | 9147420       |  954806       | 1.8           | 38            | 83%           | 4.25%         |\n",
       "| Indonesia     |  274021604    | 1.07%         |  2898047      | 151           | 1811570       |  -98955       | 2.3           | 30            | 56%           | 3.51%         |\n",
       "| Pakistan      |  221612785    | 2.00%         |  4327022      | 287           |  770880       | -233379       | 3.6           | 23            | 35%           | 2.83%         |\n",
       "| Brazil        |  212821986    | 0.72%         |  1509890      |  25           | 8358140       |   21200       | 1.7           | 33            | 88%           | 2.73%         |\n",
       "\n"
      ],
      "text/plain": [
       "  Country       Population Yearly Change Net Change Density Land Area Migrants\n",
       "1 China         1440297825 0.39%          5540090   153     9388211   -348399 \n",
       "2 India         1382345085 0.99%         13586631   464     2973190   -532687 \n",
       "3 United States  331341050 0.59%          1937734    36     9147420    954806 \n",
       "4 Indonesia      274021604 1.07%          2898047   151     1811570    -98955 \n",
       "5 Pakistan       221612785 2.00%          4327022   287      770880   -233379 \n",
       "6 Brazil         212821986 0.72%          1509890    25     8358140     21200 \n",
       "  Fert. Rate Med. Age Urban Pop World Share\n",
       "1 1.7        38       61%       18.47%     \n",
       "2 2.2        28       35%       17.70%     \n",
       "3 1.8        38       83%       4.25%      \n",
       "4 2.3        30       56%       3.51%      \n",
       "5 3.6        23       35%       2.83%      \n",
       "6 1.7        33       88%       2.73%      "
      ]
     },
     "metadata": {},
     "output_type": "display_data"
    }
   ],
   "source": [
    "#import population data for each country\n",
    "country_population <- read_csv('./country_population.csv')\n",
    "head(country_population)"
   ]
  },
  {
   "cell_type": "code",
   "execution_count": 7,
   "id": "8254caf8-c0af-4692-bb2f-8e38f94290cd",
   "metadata": {},
   "outputs": [
    {
     "data": {
      "text/html": [
       "<table>\n",
       "<thead><tr><th scope=col>Country</th><th scope=col>Population</th><th scope=col>Density</th></tr></thead>\n",
       "<tbody>\n",
       "\t<tr><td>China        </td><td>1440297825   </td><td>153          </td></tr>\n",
       "\t<tr><td>India        </td><td>1382345085   </td><td>464          </td></tr>\n",
       "\t<tr><td>United States</td><td> 331341050   </td><td> 36          </td></tr>\n",
       "\t<tr><td>Indonesia    </td><td> 274021604   </td><td>151          </td></tr>\n",
       "\t<tr><td>Pakistan     </td><td> 221612785   </td><td>287          </td></tr>\n",
       "\t<tr><td>Brazil       </td><td> 212821986   </td><td> 25          </td></tr>\n",
       "</tbody>\n",
       "</table>\n"
      ],
      "text/latex": [
       "\\begin{tabular}{r|lll}\n",
       " Country & Population & Density\\\\\n",
       "\\hline\n",
       "\t China         & 1440297825    & 153          \\\\\n",
       "\t India         & 1382345085    & 464          \\\\\n",
       "\t United States &  331341050    &  36          \\\\\n",
       "\t Indonesia     &  274021604    & 151          \\\\\n",
       "\t Pakistan      &  221612785    & 287          \\\\\n",
       "\t Brazil        &  212821986    &  25          \\\\\n",
       "\\end{tabular}\n"
      ],
      "text/markdown": [
       "\n",
       "| Country | Population | Density |\n",
       "|---|---|---|\n",
       "| China         | 1440297825    | 153           |\n",
       "| India         | 1382345085    | 464           |\n",
       "| United States |  331341050    |  36           |\n",
       "| Indonesia     |  274021604    | 151           |\n",
       "| Pakistan      |  221612785    | 287           |\n",
       "| Brazil        |  212821986    |  25           |\n",
       "\n"
      ],
      "text/plain": [
       "  Country       Population Density\n",
       "1 China         1440297825 153    \n",
       "2 India         1382345085 464    \n",
       "3 United States  331341050  36    \n",
       "4 Indonesia      274021604 151    \n",
       "5 Pakistan       221612785 287    \n",
       "6 Brazil         212821986  25    "
      ]
     },
     "metadata": {},
     "output_type": "display_data"
    }
   ],
   "source": [
    "#choose useful columns\n",
    "country_population <- country_population[c(1,2,5)]\n",
    "head(country_population)"
   ]
  },
  {
   "cell_type": "code",
   "execution_count": 8,
   "id": "761d6144-34a7-42b0-b203-c6900d302cb3",
   "metadata": {},
   "outputs": [
    {
     "data": {
      "text/html": [
       "<table>\n",
       "<thead><tr><th scope=col>Name</th><th scope=col>Platform</th><th scope=col>Year</th><th scope=col>Genre</th><th scope=col>Publisher</th><th scope=col>NA_Sales</th><th scope=col>PAL_Sales</th><th scope=col>JP_Sales</th><th scope=col>Global_Sales</th></tr></thead>\n",
       "<tbody>\n",
       "\t<tr><td>Asteroids      </td><td>2600           </td><td>1980           </td><td>Shooter        </td><td>Atari          </td><td>6.7050561      </td><td>0.036354556    </td><td>0              </td><td>6.7414107      </td></tr>\n",
       "\t<tr><td>Missile Command</td><td>2600           </td><td>1980           </td><td>Shooter        </td><td>Atari          </td><td>4.2912359      </td><td>0.023770287    </td><td>0              </td><td>4.3150062      </td></tr>\n",
       "\t<tr><td>Kaboom!        </td><td>2600           </td><td>1980           </td><td>Misc           </td><td>Activision     </td><td>1.7936025      </td><td>0.009787765    </td><td>0              </td><td>1.8033903      </td></tr>\n",
       "\t<tr><td>Defender       </td><td>2600           </td><td>1980           </td><td>Misc           </td><td>Atari          </td><td>1.6595014      </td><td>0.006991261    </td><td>0              </td><td>1.6664927      </td></tr>\n",
       "\t<tr><td>Boxing         </td><td>2600           </td><td>1980           </td><td>Fighting       </td><td>Activision     </td><td>1.2069101      </td><td>0.005593009    </td><td>0              </td><td>1.2125031      </td></tr>\n",
       "\t<tr><td>Ice Hockey     </td><td>2600           </td><td>1980           </td><td>Sports         </td><td>Activision     </td><td>0.7710815      </td><td>0.004194756    </td><td>0              </td><td>0.7752762      </td></tr>\n",
       "</tbody>\n",
       "</table>\n"
      ],
      "text/latex": [
       "\\begin{tabular}{r|lllllllll}\n",
       " Name & Platform & Year & Genre & Publisher & NA\\_Sales & PAL\\_Sales & JP\\_Sales & Global\\_Sales\\\\\n",
       "\\hline\n",
       "\t Asteroids       & 2600            & 1980            & Shooter         & Atari           & 6.7050561       & 0.036354556     & 0               & 6.7414107      \\\\\n",
       "\t Missile Command & 2600            & 1980            & Shooter         & Atari           & 4.2912359       & 0.023770287     & 0               & 4.3150062      \\\\\n",
       "\t Kaboom!         & 2600            & 1980            & Misc            & Activision      & 1.7936025       & 0.009787765     & 0               & 1.8033903      \\\\\n",
       "\t Defender        & 2600            & 1980            & Misc            & Atari           & 1.6595014       & 0.006991261     & 0               & 1.6664927      \\\\\n",
       "\t Boxing          & 2600            & 1980            & Fighting        & Activision      & 1.2069101       & 0.005593009     & 0               & 1.2125031      \\\\\n",
       "\t Ice Hockey      & 2600            & 1980            & Sports          & Activision      & 0.7710815       & 0.004194756     & 0               & 0.7752762      \\\\\n",
       "\\end{tabular}\n"
      ],
      "text/markdown": [
       "\n",
       "| Name | Platform | Year | Genre | Publisher | NA_Sales | PAL_Sales | JP_Sales | Global_Sales |\n",
       "|---|---|---|---|---|---|---|---|---|\n",
       "| Asteroids       | 2600            | 1980            | Shooter         | Atari           | 6.7050561       | 0.036354556     | 0               | 6.7414107       |\n",
       "| Missile Command | 2600            | 1980            | Shooter         | Atari           | 4.2912359       | 0.023770287     | 0               | 4.3150062       |\n",
       "| Kaboom!         | 2600            | 1980            | Misc            | Activision      | 1.7936025       | 0.009787765     | 0               | 1.8033903       |\n",
       "| Defender        | 2600            | 1980            | Misc            | Atari           | 1.6595014       | 0.006991261     | 0               | 1.6664927       |\n",
       "| Boxing          | 2600            | 1980            | Fighting        | Activision      | 1.2069101       | 0.005593009     | 0               | 1.2125031       |\n",
       "| Ice Hockey      | 2600            | 1980            | Sports          | Activision      | 0.7710815       | 0.004194756     | 0               | 0.7752762       |\n",
       "\n"
      ],
      "text/plain": [
       "  Name            Platform Year Genre    Publisher  NA_Sales  PAL_Sales  \n",
       "1 Asteroids       2600     1980 Shooter  Atari      6.7050561 0.036354556\n",
       "2 Missile Command 2600     1980 Shooter  Atari      4.2912359 0.023770287\n",
       "3 Kaboom!         2600     1980 Misc     Activision 1.7936025 0.009787765\n",
       "4 Defender        2600     1980 Misc     Atari      1.6595014 0.006991261\n",
       "5 Boxing          2600     1980 Fighting Activision 1.2069101 0.005593009\n",
       "6 Ice Hockey      2600     1980 Sports   Activision 0.7710815 0.004194756\n",
       "  JP_Sales Global_Sales\n",
       "1 0        6.7414107   \n",
       "2 0        4.3150062   \n",
       "3 0        1.8033903   \n",
       "4 0        1.6664927   \n",
       "5 0        1.2125031   \n",
       "6 0        0.7752762   "
      ]
     },
     "metadata": {},
     "output_type": "display_data"
    }
   ],
   "source": [
    "#compute the normalized game sales\n",
    "actual_sales <- raw_sales[-1] %>% rename('PAL_Sales' = 'EU_Sales')\n",
    "\n",
    "NA_population <- as.numeric(continent_population[4,2]/1e9)\n",
    "JP_population <- as.numeric(country_population[11,2]/1e9)\n",
    "PAL_population <- as.numeric(sum(continent_population[,2])/1e9-NA_population-JP_population)\n",
    "\n",
    "normalized_sales <- actual_sales[-9]\n",
    "normalized_sales$NA_Sales <- normalized_sales$NA_Sales/NA_population\n",
    "normalized_sales$JP_Sales <- normalized_sales$JP_Sales/JP_population\n",
    "normalized_sales$PAL_Sales <- normalized_sales$PAL_Sales/PAL_population\n",
    "normalized_sales$Global_Sales <- rowSums(normalized_sales[c(6:8)], na.rm = TRUE)\n",
    "\n",
    "head(normalized_sales)"
   ]
  },
  {
   "cell_type": "code",
   "execution_count": 9,
   "id": "3e171898-867d-4360-b03a-8394dfb61118",
   "metadata": {},
   "outputs": [
    {
     "data": {
      "text/html": [
       "<table>\n",
       "<thead><tr><th scope=col>Year</th><th scope=col>Region</th><th scope=col>value</th></tr></thead>\n",
       "<tbody>\n",
       "\t<tr><td>1980    </td><td>NA_Sales</td><td>17.75164</td></tr>\n",
       "\t<tr><td>1981    </td><td>NA_Sales</td><td>55.98722</td></tr>\n",
       "\t<tr><td>1982    </td><td>NA_Sales</td><td>45.12503</td></tr>\n",
       "\t<tr><td>1983    </td><td>NA_Sales</td><td>13.00781</td></tr>\n",
       "\t<tr><td>1984    </td><td>NA_Sales</td><td>55.78607</td></tr>\n",
       "\t<tr><td>1985    </td><td>NA_Sales</td><td>56.54039</td></tr>\n",
       "</tbody>\n",
       "</table>\n"
      ],
      "text/latex": [
       "\\begin{tabular}{r|lll}\n",
       " Year & Region & value\\\\\n",
       "\\hline\n",
       "\t 1980       & NA\\_Sales & 17.75164  \\\\\n",
       "\t 1981       & NA\\_Sales & 55.98722  \\\\\n",
       "\t 1982       & NA\\_Sales & 45.12503  \\\\\n",
       "\t 1983       & NA\\_Sales & 13.00781  \\\\\n",
       "\t 1984       & NA\\_Sales & 55.78607  \\\\\n",
       "\t 1985       & NA\\_Sales & 56.54039  \\\\\n",
       "\\end{tabular}\n"
      ],
      "text/markdown": [
       "\n",
       "| Year | Region | value |\n",
       "|---|---|---|\n",
       "| 1980     | NA_Sales | 17.75164 |\n",
       "| 1981     | NA_Sales | 55.98722 |\n",
       "| 1982     | NA_Sales | 45.12503 |\n",
       "| 1983     | NA_Sales | 13.00781 |\n",
       "| 1984     | NA_Sales | 55.78607 |\n",
       "| 1985     | NA_Sales | 56.54039 |\n",
       "\n"
      ],
      "text/plain": [
       "  Year Region   value   \n",
       "1 1980 NA_Sales 17.75164\n",
       "2 1981 NA_Sales 55.98722\n",
       "3 1982 NA_Sales 45.12503\n",
       "4 1983 NA_Sales 13.00781\n",
       "5 1984 NA_Sales 55.78607\n",
       "6 1985 NA_Sales 56.54039"
      ]
     },
     "metadata": {},
     "output_type": "display_data"
    }
   ],
   "source": [
    "#covert the normalized sales from wide to long\n",
    "normalized_sales_long <- normalized_sales %>% group_by(Year) %>% summarise('NA_Sales' = sum(NA_Sales),\n",
    "                                                                          'PAL_Sales' = sum(PAL_Sales),\n",
    "                                                                          'JP_Sales' = sum(JP_Sales),\n",
    "                                                                          'Global_Sales' = sum(Global_Sales))\n",
    "normalized_sales_long <- melt(normalized_sales_long, id = 'Year', measure = c('NA_Sales', 'PAL_Sales', 'JP_Sales', 'Global_Sales'))\n",
    "normalized_sales_long <- normalized_sales_long %>% rename('Region' = 'variable') %>% filter((Year >= 1979) & (Year <= 2019))\n",
    "normalized_sales_long$Year = as.numeric(as.character(normalized_sales_long$Year))\n",
    "head(normalized_sales_long)"
   ]
  },
  {
   "cell_type": "code",
   "execution_count": 10,
   "id": "311fb328-d77c-4d75-beef-764f5399dd77",
   "metadata": {},
   "outputs": [
    {
     "name": "stderr",
     "output_type": "stream",
     "text": [
      "Warning message:\n",
      "\"Missing column names filled in: 'X6' [6]\"Parsed with column specification:\n",
      "cols(\n",
      "  `Region / Country` = col_character(),\n",
      "  `2013` = col_character(),\n",
      "  `2012` = col_character(),\n",
      "  `2011` = col_character(),\n",
      "  `2010` = col_character(),\n",
      "  X6 = col_logical()\n",
      ")\n"
     ]
    },
    {
     "data": {
      "text/html": [
       "<table>\n",
       "<thead><tr><th scope=col>Region / Country</th><th scope=col>2013</th><th scope=col>2012</th><th scope=col>2011</th><th scope=col>2010</th><th scope=col>X6</th></tr></thead>\n",
       "<tbody>\n",
       "\t<tr><td>Asia-Pacific          </td><td>$49.623 billion       </td><td>$44.063 billion       </td><td>$42.358 billion       </td><td>$38.77 billion        </td><td>NA                    </td></tr>\n",
       "\t<tr><td>Japan                 </td><td>$22.29 billion        </td><td>22.29                 </td><td>$23.04 billion        </td><td>$21.13 billion        </td><td>NA                    </td></tr>\n",
       "\t<tr><td>China                 </td><td>$14 billion[47]       </td><td>$9.8 billion[48]      </td><td>$7.3 billion[49][50]  </td><td>$6.9 billion[51]      </td><td>NA                    </td></tr>\n",
       "\t<tr><td>South Korea           </td><td>$9.64 billion[53]     </td><td>$9.23 billion[54]     </td><td>$9.082 billion[55][56]</td><td>$7.784 billion[55][57]</td><td>NA                    </td></tr>\n",
       "\t<tr><td>Australia             </td><td>$2 billion[59]        </td><td>$1.16 billion[60]     </td><td>$1.5 billion[60]      </td><td>$1.67 billion[61]     </td><td>NA                    </td></tr>\n",
       "\t<tr><td>Taiwan                </td><td>$825 million          </td><td>$773 million          </td><td>$713 million          </td><td>$660 million          </td><td>NA                    </td></tr>\n",
       "</tbody>\n",
       "</table>\n"
      ],
      "text/latex": [
       "\\begin{tabular}{r|llllll}\n",
       " Region / Country & 2013 & 2012 & 2011 & 2010 & X6\\\\\n",
       "\\hline\n",
       "\t Asia-Pacific             & \\$49.623 billion        & \\$44.063 billion        & \\$42.358 billion        & \\$38.77 billion         & NA                      \\\\\n",
       "\t Japan                    & \\$22.29 billion         & 22.29                    & \\$23.04 billion         & \\$21.13 billion         & NA                      \\\\\n",
       "\t China                            & \\$14 billion{[}47{]}            & \\$9.8 billion{[}48{]}           & \\$7.3 billion{[}49{]}{[}50{]}   & \\$6.9 billion{[}51{]}           & NA                              \\\\\n",
       "\t South Korea                      & \\$9.64 billion{[}53{]}          & \\$9.23 billion{[}54{]}          & \\$9.082 billion{[}55{]}{[}56{]} & \\$7.784 billion{[}55{]}{[}57{]} & NA                              \\\\\n",
       "\t Australia                    & \\$2 billion{[}59{]}         & \\$1.16 billion{[}60{]}      & \\$1.5 billion{[}60{]}       & \\$1.67 billion{[}61{]}      & NA                          \\\\\n",
       "\t Taiwan                   & \\$825 million           & \\$773 million           & \\$713 million           & \\$660 million           & NA                      \\\\\n",
       "\\end{tabular}\n"
      ],
      "text/markdown": [
       "\n",
       "| Region / Country | 2013 | 2012 | 2011 | 2010 | X6 |\n",
       "|---|---|---|---|---|---|\n",
       "| Asia-Pacific           | $49.623 billion        | $44.063 billion        | $42.358 billion        | $38.77 billion         | NA                     |\n",
       "| Japan                  | $22.29 billion         | 22.29                  | $23.04 billion         | $21.13 billion         | NA                     |\n",
       "| China                  | $14 billion[47]        | $9.8 billion[48]       | $7.3 billion[49][50]   | $6.9 billion[51]       | NA                     |\n",
       "| South Korea            | $9.64 billion[53]      | $9.23 billion[54]      | $9.082 billion[55][56] | $7.784 billion[55][57] | NA                     |\n",
       "| Australia              | $2 billion[59]         | $1.16 billion[60]      | $1.5 billion[60]       | $1.67 billion[61]      | NA                     |\n",
       "| Taiwan                 | $825 million           | $773 million           | $713 million           | $660 million           | NA                     |\n",
       "\n"
      ],
      "text/plain": [
       "  Region / Country 2013              2012              2011                  \n",
       "1 Asia-Pacific     $49.623 billion   $44.063 billion   $42.358 billion       \n",
       "2 Japan            $22.29 billion    22.29             $23.04 billion        \n",
       "3 China            $14 billion[47]   $9.8 billion[48]  $7.3 billion[49][50]  \n",
       "4 South Korea      $9.64 billion[53] $9.23 billion[54] $9.082 billion[55][56]\n",
       "5 Australia        $2 billion[59]    $1.16 billion[60] $1.5 billion[60]      \n",
       "6 Taiwan           $825 million      $773 million      $713 million          \n",
       "  2010                   X6\n",
       "1 $38.77 billion         NA\n",
       "2 $21.13 billion         NA\n",
       "3 $6.9 billion[51]       NA\n",
       "4 $7.784 billion[55][57] NA\n",
       "5 $1.67 billion[61]      NA\n",
       "6 $660 million           NA"
      ]
     },
     "metadata": {},
     "output_type": "display_data"
    }
   ],
   "source": [
    "#import revenues data for each country\n",
    "raw_revenues <- read_csv('./region_revenues.csv')\n",
    "# manually alter null cell\n",
    "raw_revenues[2,3] = '22.29'\n",
    "head(raw_revenues)"
   ]
  },
  {
   "cell_type": "code",
   "execution_count": 11,
   "id": "6e5ded30-de7f-4ec7-9835-7f8fdb181ece",
   "metadata": {},
   "outputs": [
    {
     "data": {
      "text/html": [
       "<table>\n",
       "<thead><tr><th scope=col>Region / Country</th><th scope=col>2013</th><th scope=col>2012</th><th scope=col>2011</th><th scope=col>2010</th></tr></thead>\n",
       "<tbody>\n",
       "\t<tr><td>Asia-Pacific</td><td> 49.623     </td><td> 44.063     </td><td> 42.358     </td><td> 38.770     </td></tr>\n",
       "\t<tr><td>Japan       </td><td> 22.290     </td><td>     NA     </td><td> 23.040     </td><td> 21.130     </td></tr>\n",
       "\t<tr><td>China       </td><td> 14.000     </td><td>  9.800     </td><td>  7.300     </td><td>  6.900     </td></tr>\n",
       "\t<tr><td>South Korea </td><td>  9.640     </td><td>  9.230     </td><td>  9.082     </td><td>  7.784     </td></tr>\n",
       "\t<tr><td>Australia   </td><td>     NA     </td><td>  1.160     </td><td>  1.500     </td><td>  1.670     </td></tr>\n",
       "\t<tr><td>Taiwan      </td><td>825.000     </td><td>773.000     </td><td>713.000     </td><td>660.000     </td></tr>\n",
       "</tbody>\n",
       "</table>\n"
      ],
      "text/latex": [
       "\\begin{tabular}{r|lllll}\n",
       " Region / Country & 2013 & 2012 & 2011 & 2010\\\\\n",
       "\\hline\n",
       "\t Asia-Pacific &  49.623      &  44.063      &  42.358      &  38.770     \\\\\n",
       "\t Japan        &  22.290      &      NA      &  23.040      &  21.130     \\\\\n",
       "\t China        &  14.000      &   9.800      &   7.300      &   6.900     \\\\\n",
       "\t South Korea  &   9.640      &   9.230      &   9.082      &   7.784     \\\\\n",
       "\t Australia    &      NA      &   1.160      &   1.500      &   1.670     \\\\\n",
       "\t Taiwan       & 825.000      & 773.000      & 713.000      & 660.000     \\\\\n",
       "\\end{tabular}\n"
      ],
      "text/markdown": [
       "\n",
       "| Region / Country | 2013 | 2012 | 2011 | 2010 |\n",
       "|---|---|---|---|---|\n",
       "| Asia-Pacific |  49.623      |  44.063      |  42.358      |  38.770      |\n",
       "| Japan        |  22.290      |      NA      |  23.040      |  21.130      |\n",
       "| China        |  14.000      |   9.800      |   7.300      |   6.900      |\n",
       "| South Korea  |   9.640      |   9.230      |   9.082      |   7.784      |\n",
       "| Australia    |      NA      |   1.160      |   1.500      |   1.670      |\n",
       "| Taiwan       | 825.000      | 773.000      | 713.000      | 660.000      |\n",
       "\n"
      ],
      "text/plain": [
       "  Region / Country 2013    2012    2011    2010   \n",
       "1 Asia-Pacific      49.623  44.063  42.358  38.770\n",
       "2 Japan             22.290      NA  23.040  21.130\n",
       "3 China             14.000   9.800   7.300   6.900\n",
       "4 South Korea        9.640   9.230   9.082   7.784\n",
       "5 Australia             NA   1.160   1.500   1.670\n",
       "6 Taiwan           825.000 773.000 713.000 660.000"
      ]
     },
     "metadata": {},
     "output_type": "display_data"
    }
   ],
   "source": [
    "#remove the last null column\n",
    "clean_revenues = raw_revenues[-6]\n",
    "#remove dollar signs and citations\n",
    "clean_revenues['2013'] <- str_extract(clean_revenues$'2013', \"(?<=\\\\$)\\\\d.+(?=\\\\ )\")%>%as.numeric()\n",
    "clean_revenues['2012'] <- str_extract(clean_revenues$'2012', \"(?<=\\\\$)\\\\d.+(?=\\\\ )\")%>%as.numeric()\n",
    "clean_revenues['2011'] <- str_extract(clean_revenues$'2011', \"(?<=\\\\$)\\\\d.+(?=\\\\ )\")%>%as.numeric()\n",
    "clean_revenues['2010'] <- str_extract(clean_revenues$'2010', \"(?<=\\\\$)\\\\d.+(?=\\\\ )\")%>%as.numeric()\n",
    "\n",
    "head(clean_revenues)"
   ]
  },
  {
   "cell_type": "code",
   "execution_count": 12,
   "id": "d4d34b45-8aff-4454-9ec6-0e946c8b36ec",
   "metadata": {},
   "outputs": [
    {
     "data": {
      "text/html": [
       "<table>\n",
       "<thead><tr><th scope=col>Region / Country</th><th scope=col>2013</th><th scope=col>2012</th><th scope=col>2011</th><th scope=col>2010</th></tr></thead>\n",
       "<tbody>\n",
       "\t<tr><td>Asia-Pacific</td><td>49623       </td><td>44063       </td><td>42358       </td><td>38770       </td></tr>\n",
       "\t<tr><td>Japan       </td><td>22290       </td><td>   NA       </td><td>23040       </td><td>21130       </td></tr>\n",
       "\t<tr><td>China       </td><td>14000       </td><td> 9800       </td><td> 7300       </td><td> 6900       </td></tr>\n",
       "\t<tr><td>South Korea </td><td> 9640       </td><td> 9230       </td><td> 9082       </td><td> 7784       </td></tr>\n",
       "\t<tr><td>Australia   </td><td>   NA       </td><td> 1160       </td><td> 1500       </td><td> 1670       </td></tr>\n",
       "\t<tr><td>Taiwan      </td><td>  825       </td><td>  773       </td><td>  713       </td><td>  660       </td></tr>\n",
       "</tbody>\n",
       "</table>\n"
      ],
      "text/latex": [
       "\\begin{tabular}{r|lllll}\n",
       " Region / Country & 2013 & 2012 & 2011 & 2010\\\\\n",
       "\\hline\n",
       "\t Asia-Pacific & 49623        & 44063        & 42358        & 38770       \\\\\n",
       "\t Japan        & 22290        &    NA        & 23040        & 21130       \\\\\n",
       "\t China        & 14000        &  9800        &  7300        &  6900       \\\\\n",
       "\t South Korea  &  9640        &  9230        &  9082        &  7784       \\\\\n",
       "\t Australia    &    NA        &  1160        &  1500        &  1670       \\\\\n",
       "\t Taiwan       &   825        &   773        &   713        &   660       \\\\\n",
       "\\end{tabular}\n"
      ],
      "text/markdown": [
       "\n",
       "| Region / Country | 2013 | 2012 | 2011 | 2010 |\n",
       "|---|---|---|---|---|\n",
       "| Asia-Pacific | 49623        | 44063        | 42358        | 38770        |\n",
       "| Japan        | 22290        |    NA        | 23040        | 21130        |\n",
       "| China        | 14000        |  9800        |  7300        |  6900        |\n",
       "| South Korea  |  9640        |  9230        |  9082        |  7784        |\n",
       "| Australia    |    NA        |  1160        |  1500        |  1670        |\n",
       "| Taiwan       |   825        |   773        |   713        |   660        |\n",
       "\n"
      ],
      "text/plain": [
       "  Region / Country 2013  2012  2011  2010 \n",
       "1 Asia-Pacific     49623 44063 42358 38770\n",
       "2 Japan            22290    NA 23040 21130\n",
       "3 China            14000  9800  7300  6900\n",
       "4 South Korea       9640  9230  9082  7784\n",
       "5 Australia           NA  1160  1500  1670\n",
       "6 Taiwan             825   773   713   660"
      ]
     },
     "metadata": {},
     "output_type": "display_data"
    }
   ],
   "source": [
    "#standardize the revenues to million dollars\n",
    "for (i in 1:nrow(clean_revenues)) {\n",
    "  for (j in 2:5) {\n",
    "    check = grepl(\"million\", raw_revenues[i,j]%>%as.character(), fixed=TRUE)\n",
    "    if (check==FALSE) {\n",
    "      clean_revenues[i, j] <- clean_revenues[i, j]*1000\n",
    "    }\n",
    "  }\n",
    "}\n",
    "head(clean_revenues)"
   ]
  },
  {
   "cell_type": "code",
   "execution_count": 13,
   "id": "7f584d3b-3aef-4256-88c4-9923a27d9e2a",
   "metadata": {},
   "outputs": [
    {
     "data": {
      "text/html": [
       "<table>\n",
       "<thead><tr><th scope=col>Region / Country</th><th scope=col>2013</th><th scope=col>2012</th><th scope=col>2011</th><th scope=col>2010</th></tr></thead>\n",
       "<tbody>\n",
       "\t<tr><td>Asia-Pacific</td><td>49623       </td><td>44063.00    </td><td>42358       </td><td>38770       </td></tr>\n",
       "\t<tr><td>Japan       </td><td>22290       </td><td>   22.29    </td><td>23040       </td><td>21130       </td></tr>\n",
       "\t<tr><td>China       </td><td>14000       </td><td> 9800.00    </td><td> 7300       </td><td> 6900       </td></tr>\n",
       "\t<tr><td>South Korea </td><td> 9640       </td><td> 9230.00    </td><td> 9082       </td><td> 7784       </td></tr>\n",
       "\t<tr><td>Australia   </td><td>    2       </td><td> 1160.00    </td><td> 1500       </td><td> 1670       </td></tr>\n",
       "\t<tr><td>Taiwan      </td><td>  825       </td><td>  773.00    </td><td>  713       </td><td>  660       </td></tr>\n",
       "</tbody>\n",
       "</table>\n"
      ],
      "text/latex": [
       "\\begin{tabular}{r|lllll}\n",
       " Region / Country & 2013 & 2012 & 2011 & 2010\\\\\n",
       "\\hline\n",
       "\t Asia-Pacific & 49623        & 44063.00     & 42358        & 38770       \\\\\n",
       "\t Japan        & 22290        &    22.29     & 23040        & 21130       \\\\\n",
       "\t China        & 14000        &  9800.00     &  7300        &  6900       \\\\\n",
       "\t South Korea  &  9640        &  9230.00     &  9082        &  7784       \\\\\n",
       "\t Australia    &     2        &  1160.00     &  1500        &  1670       \\\\\n",
       "\t Taiwan       &   825        &   773.00     &   713        &   660       \\\\\n",
       "\\end{tabular}\n"
      ],
      "text/markdown": [
       "\n",
       "| Region / Country | 2013 | 2012 | 2011 | 2010 |\n",
       "|---|---|---|---|---|\n",
       "| Asia-Pacific | 49623        | 44063.00     | 42358        | 38770        |\n",
       "| Japan        | 22290        |    22.29     | 23040        | 21130        |\n",
       "| China        | 14000        |  9800.00     |  7300        |  6900        |\n",
       "| South Korea  |  9640        |  9230.00     |  9082        |  7784        |\n",
       "| Australia    |     2        |  1160.00     |  1500        |  1670        |\n",
       "| Taiwan       |   825        |   773.00     |   713        |   660        |\n",
       "\n"
      ],
      "text/plain": [
       "  Region / Country 2013  2012     2011  2010 \n",
       "1 Asia-Pacific     49623 44063.00 42358 38770\n",
       "2 Japan            22290    22.29 23040 21130\n",
       "3 China            14000  9800.00  7300  6900\n",
       "4 South Korea       9640  9230.00  9082  7784\n",
       "5 Australia            2  1160.00  1500  1670\n",
       "6 Taiwan             825   773.00   713   660"
      ]
     },
     "metadata": {},
     "output_type": "display_data"
    }
   ],
   "source": [
    "#manually alter null cells\n",
    "clean_revenues[2,3] = 22.29\n",
    "clean_revenues[5,2] = 2\n",
    "clean_revenues[11,3] = 4\n",
    "clean_revenues[21,3] = 2\n",
    "clean_revenues[21,4] = 2\n",
    "\n",
    "head(clean_revenues)"
   ]
  },
  {
   "cell_type": "code",
   "execution_count": 14,
   "id": "e32823ad-be92-41b5-a298-5c4abaa1889a",
   "metadata": {},
   "outputs": [
    {
     "data": {
      "text/html": [
       "<table>\n",
       "<thead><tr><th scope=col>Continent</th><th scope=col>2010</th><th scope=col>2011</th><th scope=col>2012</th><th scope=col>2013</th></tr></thead>\n",
       "<tbody>\n",
       "\t<tr><td>Asia-Pacific </td><td>38770        </td><td>42358        </td><td>44063        </td><td>49623        </td></tr>\n",
       "\t<tr><td>Europe       </td><td>20660        </td><td>21300        </td><td>21300        </td><td>20000        </td></tr>\n",
       "\t<tr><td>North America</td><td>20490        </td><td>20700        </td><td>20700        </td><td>22800        </td></tr>\n",
       "\t<tr><td>Latin America</td><td> 4740        </td><td> 5400        </td><td> 5400        </td><td> 3900        </td></tr>\n",
       "\t<tr><td>Middle East  </td><td> 1200        </td><td> 1983        </td><td> 2600        </td><td> 2600        </td></tr>\n",
       "</tbody>\n",
       "</table>\n"
      ],
      "text/latex": [
       "\\begin{tabular}{r|lllll}\n",
       " Continent & 2010 & 2011 & 2012 & 2013\\\\\n",
       "\\hline\n",
       "\t Asia-Pacific  & 38770         & 42358         & 44063         & 49623        \\\\\n",
       "\t Europe        & 20660         & 21300         & 21300         & 20000        \\\\\n",
       "\t North America & 20490         & 20700         & 20700         & 22800        \\\\\n",
       "\t Latin America &  4740         &  5400         &  5400         &  3900        \\\\\n",
       "\t Middle East   &  1200         &  1983         &  2600         &  2600        \\\\\n",
       "\\end{tabular}\n"
      ],
      "text/markdown": [
       "\n",
       "| Continent | 2010 | 2011 | 2012 | 2013 |\n",
       "|---|---|---|---|---|\n",
       "| Asia-Pacific  | 38770         | 42358         | 44063         | 49623         |\n",
       "| Europe        | 20660         | 21300         | 21300         | 20000         |\n",
       "| North America | 20490         | 20700         | 20700         | 22800         |\n",
       "| Latin America |  4740         |  5400         |  5400         |  3900         |\n",
       "| Middle East   |  1200         |  1983         |  2600         |  2600         |\n",
       "\n"
      ],
      "text/plain": [
       "  Continent     2010  2011  2012  2013 \n",
       "1 Asia-Pacific  38770 42358 44063 49623\n",
       "2 Europe        20660 21300 21300 20000\n",
       "3 North America 20490 20700 20700 22800\n",
       "4 Latin America  4740  5400  5400  3900\n",
       "5 Middle East    1200  1983  2600  2600"
      ]
     },
     "metadata": {},
     "output_type": "display_data"
    }
   ],
   "source": [
    "#create new dataframe for revenues by continents\n",
    "continent_revenues <- clean_revenues %>%\n",
    "  slice(1, 9, 16, 20, 23) %>%\n",
    "  select('Region / Country', '2010', '2011', '2012', '2013') %>% \n",
    "  rename('Continent' = 'Region / Country')\n",
    "head(continent_revenues)"
   ]
  },
  {
   "cell_type": "code",
   "execution_count": 15,
   "id": "be118ac7-685a-4f24-b451-54107e86628a",
   "metadata": {},
   "outputs": [],
   "source": [
    "#create new dataframe for revenues by countries\n",
    "country_revenues <- clean_revenues %>%\n",
    "  slice(-1, -9, -16, -19, -20, -23) %>%\n",
    "  select('Region / Country', '2010', '2011', '2012', '2013') %>% \n",
    "  rename('Country' = 'Region / Country')"
   ]
  },
  {
   "cell_type": "code",
   "execution_count": 16,
   "id": "62fed754-88bd-43c8-81b4-c4299189b9b4",
   "metadata": {},
   "outputs": [
    {
     "data": {
      "text/html": [
       "<table>\n",
       "<thead><tr><th scope=col>Country</th><th scope=col>2010</th><th scope=col>2011</th><th scope=col>2012</th><th scope=col>2013</th><th scope=col>Total</th></tr></thead>\n",
       "<tbody>\n",
       "\t<tr><td>Japan      </td><td>21130      </td><td>23040      </td><td>  22.29    </td><td>22290      </td><td>66482.29   </td></tr>\n",
       "\t<tr><td>China      </td><td> 6900      </td><td> 7300      </td><td>9800.00    </td><td>14000      </td><td>38000.00   </td></tr>\n",
       "\t<tr><td>South Korea</td><td> 7784      </td><td> 9082      </td><td>9230.00    </td><td> 9640      </td><td>35736.00   </td></tr>\n",
       "\t<tr><td>Australia  </td><td> 1670      </td><td> 1500      </td><td>1160.00    </td><td>    2      </td><td> 4332.00   </td></tr>\n",
       "\t<tr><td>Taiwan     </td><td>  660      </td><td>  713      </td><td> 773.00    </td><td>  825      </td><td> 2971.00   </td></tr>\n",
       "\t<tr><td>Indonesia  </td><td>  396      </td><td>  429      </td><td> 463.00    </td><td>  492      </td><td> 1780.00   </td></tr>\n",
       "</tbody>\n",
       "</table>\n"
      ],
      "text/latex": [
       "\\begin{tabular}{r|llllll}\n",
       " Country & 2010 & 2011 & 2012 & 2013 & Total\\\\\n",
       "\\hline\n",
       "\t Japan       & 21130       & 23040       &   22.29     & 22290       & 66482.29   \\\\\n",
       "\t China       &  6900       &  7300       & 9800.00     & 14000       & 38000.00   \\\\\n",
       "\t South Korea &  7784       &  9082       & 9230.00     &  9640       & 35736.00   \\\\\n",
       "\t Australia   &  1670       &  1500       & 1160.00     &     2       &  4332.00   \\\\\n",
       "\t Taiwan      &   660       &   713       &  773.00     &   825       &  2971.00   \\\\\n",
       "\t Indonesia   &   396       &   429       &  463.00     &   492       &  1780.00   \\\\\n",
       "\\end{tabular}\n"
      ],
      "text/markdown": [
       "\n",
       "| Country | 2010 | 2011 | 2012 | 2013 | Total |\n",
       "|---|---|---|---|---|---|\n",
       "| Japan       | 21130       | 23040       |   22.29     | 22290       | 66482.29    |\n",
       "| China       |  6900       |  7300       | 9800.00     | 14000       | 38000.00    |\n",
       "| South Korea |  7784       |  9082       | 9230.00     |  9640       | 35736.00    |\n",
       "| Australia   |  1670       |  1500       | 1160.00     |     2       |  4332.00    |\n",
       "| Taiwan      |   660       |   713       |  773.00     |   825       |  2971.00    |\n",
       "| Indonesia   |   396       |   429       |  463.00     |   492       |  1780.00    |\n",
       "\n"
      ],
      "text/plain": [
       "  Country     2010  2011  2012    2013  Total   \n",
       "1 Japan       21130 23040   22.29 22290 66482.29\n",
       "2 China        6900  7300 9800.00 14000 38000.00\n",
       "3 South Korea  7784  9082 9230.00  9640 35736.00\n",
       "4 Australia    1670  1500 1160.00     2  4332.00\n",
       "5 Taiwan        660   713  773.00   825  2971.00\n",
       "6 Indonesia     396   429  463.00   492  1780.00"
      ]
     },
     "metadata": {},
     "output_type": "display_data"
    }
   ],
   "source": [
    "#add a new column to compute the sum of revenues\n",
    "country_revenues$Total <- rowSums(country_revenues[c(2:5)], na.rm = TRUE)\n",
    "head(country_revenues)"
   ]
  },
  {
   "cell_type": "code",
   "execution_count": 17,
   "id": "5dbd22e9-69c4-4e28-97b4-7f58990a77bf",
   "metadata": {},
   "outputs": [
    {
     "data": {
      "text/html": [
       "<ol class=list-inline>\n",
       "\t<li>'2010'</li>\n",
       "\t<li>'2013'</li>\n",
       "</ol>\n"
      ],
      "text/latex": [
       "\\begin{enumerate*}\n",
       "\\item '2010'\n",
       "\\item '2013'\n",
       "\\end{enumerate*}\n"
      ],
      "text/markdown": [
       "1. '2010'\n",
       "2. '2013'\n",
       "\n",
       "\n"
      ],
      "text/plain": [
       "[1] \"2010\" \"2013\""
      ]
     },
     "metadata": {},
     "output_type": "display_data"
    }
   ],
   "source": [
    "#check if there is any null\n",
    "colnames(country_revenues)[apply(country_revenues, 2, anyNA)]"
   ]
  },
  {
   "cell_type": "code",
   "execution_count": 18,
   "id": "e9120fcd-fa6d-4776-8252-a868965d21ec",
   "metadata": {},
   "outputs": [],
   "source": [
    "#remove null cell\n",
    "country_revenues <- country_revenues[complete.cases(country_revenues), ]"
   ]
  },
  {
   "cell_type": "code",
   "execution_count": 19,
   "id": "1037a741-8b32-443a-9658-f15f40accc41",
   "metadata": {},
   "outputs": [
    {
     "data": {
      "text/html": [
       "<table>\n",
       "<thead><tr><th scope=col>Country</th><th scope=col>2010</th><th scope=col>2011</th><th scope=col>2012</th><th scope=col>2013</th><th scope=col>Total</th><th scope=col>Population</th><th scope=col>Density</th></tr></thead>\n",
       "<tbody>\n",
       "\t<tr><td>Australia </td><td>1670      </td><td>1500      </td><td>1160      </td><td>    2     </td><td> 4332     </td><td>  25550683</td><td>  3       </td></tr>\n",
       "\t<tr><td>Brazil    </td><td> 391      </td><td>   2      </td><td>   2      </td><td> 1400     </td><td> 1795     </td><td> 212821986</td><td> 25       </td></tr>\n",
       "\t<tr><td>Canada    </td><td>1682      </td><td>2171      </td><td>2773      </td><td> 2300     </td><td> 8926     </td><td>  37799407</td><td>  4       </td></tr>\n",
       "\t<tr><td>China     </td><td>6900      </td><td>7300      </td><td>9800      </td><td>14000     </td><td>38000     </td><td>1440297825</td><td>153       </td></tr>\n",
       "\t<tr><td>France    </td><td>3416      </td><td>3352      </td><td>   4      </td><td> 6900     </td><td>13672     </td><td>  65298930</td><td>119       </td></tr>\n",
       "\t<tr><td>Germany   </td><td>2659      </td><td>2757      </td><td>3360      </td><td> 3700     </td><td>12476     </td><td>  83830972</td><td>240       </td></tr>\n",
       "</tbody>\n",
       "</table>\n"
      ],
      "text/latex": [
       "\\begin{tabular}{r|llllllll}\n",
       " Country & 2010 & 2011 & 2012 & 2013 & Total & Population & Density\\\\\n",
       "\\hline\n",
       "\t Australia  & 1670       & 1500       & 1160       &     2      &  4332      &   25550683 &   3       \\\\\n",
       "\t Brazil     &  391       &    2       &    2       &  1400      &  1795      &  212821986 &  25       \\\\\n",
       "\t Canada     & 1682       & 2171       & 2773       &  2300      &  8926      &   37799407 &   4       \\\\\n",
       "\t China      & 6900       & 7300       & 9800       & 14000      & 38000      & 1440297825 & 153       \\\\\n",
       "\t France     & 3416       & 3352       &    4       &  6900      & 13672      &   65298930 & 119       \\\\\n",
       "\t Germany    & 2659       & 2757       & 3360       &  3700      & 12476      &   83830972 & 240       \\\\\n",
       "\\end{tabular}\n"
      ],
      "text/markdown": [
       "\n",
       "| Country | 2010 | 2011 | 2012 | 2013 | Total | Population | Density |\n",
       "|---|---|---|---|---|---|---|---|\n",
       "| Australia  | 1670       | 1500       | 1160       |     2      |  4332      |   25550683 |   3        |\n",
       "| Brazil     |  391       |    2       |    2       |  1400      |  1795      |  212821986 |  25        |\n",
       "| Canada     | 1682       | 2171       | 2773       |  2300      |  8926      |   37799407 |   4        |\n",
       "| China      | 6900       | 7300       | 9800       | 14000      | 38000      | 1440297825 | 153        |\n",
       "| France     | 3416       | 3352       |    4       |  6900      | 13672      |   65298930 | 119        |\n",
       "| Germany    | 2659       | 2757       | 3360       |  3700      | 12476      |   83830972 | 240        |\n",
       "\n"
      ],
      "text/plain": [
       "  Country   2010 2011 2012 2013  Total Population Density\n",
       "1 Australia 1670 1500 1160     2  4332   25550683   3    \n",
       "2 Brazil     391    2    2  1400  1795  212821986  25    \n",
       "3 Canada    1682 2171 2773  2300  8926   37799407   4    \n",
       "4 China     6900 7300 9800 14000 38000 1440297825 153    \n",
       "5 France    3416 3352    4  6900 13672   65298930 119    \n",
       "6 Germany   2659 2757 3360  3700 12476   83830972 240    "
      ]
     },
     "metadata": {},
     "output_type": "display_data"
    }
   ],
   "source": [
    "#combine country_revenues and country_population\n",
    "country_revenues <- merge(country_revenues, country_population, by = 'Country')\n",
    "head(country_revenues)"
   ]
  },
  {
   "cell_type": "code",
   "execution_count": 20,
   "id": "3bf3204e-0b7b-4c18-ab88-1cce65c9eab5",
   "metadata": {},
   "outputs": [
    {
     "data": {
      "text/html": [
       "<table>\n",
       "<thead><tr><th scope=col>Country</th><th scope=col>2010</th><th scope=col>2011</th><th scope=col>2012</th><th scope=col>2013</th><th scope=col>Total</th><th scope=col>Population</th><th scope=col>Density</th></tr></thead>\n",
       "<tbody>\n",
       "\t<tr><td>Australia </td><td>65360.29  </td><td>58706.85  </td><td>45399.96  </td><td>    78.28 </td><td>169545.37 </td><td>  25550683</td><td>  3       </td></tr>\n",
       "\t<tr><td>Brazil    </td><td> 1837.22  </td><td>    9.40  </td><td>    9.40  </td><td>  6578.27 </td><td>  8434.28 </td><td> 212821986</td><td> 25       </td></tr>\n",
       "\t<tr><td>Canada    </td><td>44498.05  </td><td>57434.76  </td><td>73360.94  </td><td> 60847.52 </td><td>236141.27 </td><td>  37799407</td><td>  4       </td></tr>\n",
       "\t<tr><td>China     </td><td> 4790.68  </td><td> 5068.40  </td><td> 6804.15  </td><td>  9720.21 </td><td> 26383.43 </td><td>1440297825</td><td>153       </td></tr>\n",
       "\t<tr><td>France    </td><td>52313.26  </td><td>51333.15  </td><td>   61.26  </td><td>105667.89 </td><td>209375.56 </td><td>  65298930</td><td>119       </td></tr>\n",
       "\t<tr><td>Germany   </td><td>31718.59  </td><td>32887.61  </td><td>40080.65  </td><td> 44136.43 </td><td>148823.28 </td><td>  83830972</td><td>240       </td></tr>\n",
       "</tbody>\n",
       "</table>\n"
      ],
      "text/latex": [
       "\\begin{tabular}{r|llllllll}\n",
       " Country & 2010 & 2011 & 2012 & 2013 & Total & Population & Density\\\\\n",
       "\\hline\n",
       "\t Australia  & 65360.29   & 58706.85   & 45399.96   &     78.28  & 169545.37  &   25550683 &   3       \\\\\n",
       "\t Brazil     &  1837.22   &     9.40   &     9.40   &   6578.27  &   8434.28  &  212821986 &  25       \\\\\n",
       "\t Canada     & 44498.05   & 57434.76   & 73360.94   &  60847.52  & 236141.27  &   37799407 &   4       \\\\\n",
       "\t China      &  4790.68   &  5068.40   &  6804.15   &   9720.21  &  26383.43  & 1440297825 & 153       \\\\\n",
       "\t France     & 52313.26   & 51333.15   &    61.26   & 105667.89  & 209375.56  &   65298930 & 119       \\\\\n",
       "\t Germany    & 31718.59   & 32887.61   & 40080.65   &  44136.43  & 148823.28  &   83830972 & 240       \\\\\n",
       "\\end{tabular}\n"
      ],
      "text/markdown": [
       "\n",
       "| Country | 2010 | 2011 | 2012 | 2013 | Total | Population | Density |\n",
       "|---|---|---|---|---|---|---|---|\n",
       "| Australia  | 65360.29   | 58706.85   | 45399.96   |     78.28  | 169545.37  |   25550683 |   3        |\n",
       "| Brazil     |  1837.22   |     9.40   |     9.40   |   6578.27  |   8434.28  |  212821986 |  25        |\n",
       "| Canada     | 44498.05   | 57434.76   | 73360.94   |  60847.52  | 236141.27  |   37799407 |   4        |\n",
       "| China      |  4790.68   |  5068.40   |  6804.15   |   9720.21  |  26383.43  | 1440297825 | 153        |\n",
       "| France     | 52313.26   | 51333.15   |    61.26   | 105667.89  | 209375.56  |   65298930 | 119        |\n",
       "| Germany    | 31718.59   | 32887.61   | 40080.65   |  44136.43  | 148823.28  |   83830972 | 240        |\n",
       "\n"
      ],
      "text/plain": [
       "  Country   2010     2011     2012     2013      Total     Population Density\n",
       "1 Australia 65360.29 58706.85 45399.96     78.28 169545.37   25550683   3    \n",
       "2 Brazil     1837.22     9.40     9.40   6578.27   8434.28  212821986  25    \n",
       "3 Canada    44498.05 57434.76 73360.94  60847.52 236141.27   37799407   4    \n",
       "4 China      4790.68  5068.40  6804.15   9720.21  26383.43 1440297825 153    \n",
       "5 France    52313.26 51333.15    61.26 105667.89 209375.56   65298930 119    \n",
       "6 Germany   31718.59 32887.61 40080.65  44136.43 148823.28   83830972 240    "
      ]
     },
     "metadata": {},
     "output_type": "display_data"
    }
   ],
   "source": [
    "#normalize the revenues by population\n",
    "normalized_revenues <- country_revenues\n",
    "normalized_revenues[c(2:6)] <- round(normalized_revenues[c(2:6)]/normalized_revenues$Population*1e9, 2)\n",
    "normalized_revenues <- normalized_revenues %>% rename_at(vars(colnames(normalized_revenues[c(2:5)])), ~c('2010', '2011', '2012', '2013'))\n",
    "head(normalized_revenues)"
   ]
  },
  {
   "cell_type": "code",
   "execution_count": 21,
   "id": "df74792e-e4f6-4b77-903d-48bdd060e0bf",
   "metadata": {},
   "outputs": [
    {
     "name": "stderr",
     "output_type": "stream",
     "text": [
      "\n",
      "Attaching package: 'maps'\n",
      "\n",
      "The following object is masked from 'package:purrr':\n",
      "\n",
      "    map\n",
      "\n"
     ]
    },
    {
     "data": {
      "text/html": [
       "<table>\n",
       "<thead><tr><th scope=col>long</th><th scope=col>lat</th><th scope=col>group</th><th scope=col>order</th><th scope=col>Country</th></tr></thead>\n",
       "<tbody>\n",
       "\t<tr><td>-69.89912</td><td>12.45200 </td><td>1        </td><td>1        </td><td>Aruba    </td></tr>\n",
       "\t<tr><td>-69.89571</td><td>12.42300 </td><td>1        </td><td>2        </td><td>Aruba    </td></tr>\n",
       "\t<tr><td>-69.94219</td><td>12.43853 </td><td>1        </td><td>3        </td><td>Aruba    </td></tr>\n",
       "\t<tr><td>-70.00415</td><td>12.50049 </td><td>1        </td><td>4        </td><td>Aruba    </td></tr>\n",
       "\t<tr><td>-70.06612</td><td>12.54697 </td><td>1        </td><td>5        </td><td>Aruba    </td></tr>\n",
       "\t<tr><td>-70.05088</td><td>12.59707 </td><td>1        </td><td>6        </td><td>Aruba    </td></tr>\n",
       "</tbody>\n",
       "</table>\n"
      ],
      "text/latex": [
       "\\begin{tabular}{r|lllll}\n",
       " long & lat & group & order & Country\\\\\n",
       "\\hline\n",
       "\t -69.89912 & 12.45200  & 1         & 1         & Aruba    \\\\\n",
       "\t -69.89571 & 12.42300  & 1         & 2         & Aruba    \\\\\n",
       "\t -69.94219 & 12.43853  & 1         & 3         & Aruba    \\\\\n",
       "\t -70.00415 & 12.50049  & 1         & 4         & Aruba    \\\\\n",
       "\t -70.06612 & 12.54697  & 1         & 5         & Aruba    \\\\\n",
       "\t -70.05088 & 12.59707  & 1         & 6         & Aruba    \\\\\n",
       "\\end{tabular}\n"
      ],
      "text/markdown": [
       "\n",
       "| long | lat | group | order | Country |\n",
       "|---|---|---|---|---|\n",
       "| -69.89912 | 12.45200  | 1         | 1         | Aruba     |\n",
       "| -69.89571 | 12.42300  | 1         | 2         | Aruba     |\n",
       "| -69.94219 | 12.43853  | 1         | 3         | Aruba     |\n",
       "| -70.00415 | 12.50049  | 1         | 4         | Aruba     |\n",
       "| -70.06612 | 12.54697  | 1         | 5         | Aruba     |\n",
       "| -70.05088 | 12.59707  | 1         | 6         | Aruba     |\n",
       "\n"
      ],
      "text/plain": [
       "  long      lat      group order Country\n",
       "1 -69.89912 12.45200 1     1     Aruba  \n",
       "2 -69.89571 12.42300 1     2     Aruba  \n",
       "3 -69.94219 12.43853 1     3     Aruba  \n",
       "4 -70.00415 12.50049 1     4     Aruba  \n",
       "5 -70.06612 12.54697 1     5     Aruba  \n",
       "6 -70.05088 12.59707 1     6     Aruba  "
      ]
     },
     "metadata": {},
     "output_type": "display_data"
    }
   ],
   "source": [
    "#rename within the dataframe for merging\n",
    "world <- map_data(\"world\") %>% rename('Country' = 'region')\n",
    "world$Country[which(world$Country == 'USA')] = 'United States'\n",
    "world$Country[which(world$Country == 'UK')] = 'United Kingdom'\n",
    "world <- world[-6]\n",
    "head(world)"
   ]
  },
  {
   "cell_type": "code",
   "execution_count": 22,
   "id": "2f4e02ae-b83b-4dde-be2c-f573c762e3e3",
   "metadata": {},
   "outputs": [
    {
     "data": {
      "text/html": [
       "<table>\n",
       "<thead><tr><th></th><th scope=col>Country</th><th scope=col>2010</th><th scope=col>2011</th><th scope=col>2012</th><th scope=col>2013</th><th scope=col>Total</th><th scope=col>Population</th><th scope=col>Density</th><th scope=col>long</th><th scope=col>lat</th><th scope=col>group</th><th scope=col>order</th></tr></thead>\n",
       "<tbody>\n",
       "\t<tr><th scope=row>7726</th><td>Australia</td><td>1670     </td><td>1500     </td><td>1160     </td><td>2        </td><td>4332     </td><td>25550683 </td><td>3        </td><td>123.5945 </td><td>-12.42568</td><td>133      </td><td>7115     </td></tr>\n",
       "\t<tr><th scope=row>7727</th><td>Australia</td><td>1670     </td><td>1500     </td><td>1160     </td><td>2        </td><td>4332     </td><td>25550683 </td><td>3        </td><td>123.5952 </td><td>-12.43594</td><td>133      </td><td>7116     </td></tr>\n",
       "\t<tr><th scope=row>7728</th><td>Australia</td><td>1670     </td><td>1500     </td><td>1160     </td><td>2        </td><td>4332     </td><td>25550683 </td><td>3        </td><td>123.5732 </td><td>-12.43418</td><td>133      </td><td>7117     </td></tr>\n",
       "\t<tr><th scope=row>7729</th><td>Australia</td><td>1670     </td><td>1500     </td><td>1160     </td><td>2        </td><td>4332     </td><td>25550683 </td><td>3        </td><td>123.5725 </td><td>-12.42393</td><td>133      </td><td>7118     </td></tr>\n",
       "\t<tr><th scope=row>7730</th><td>Australia</td><td>1670     </td><td>1500     </td><td>1160     </td><td>2        </td><td>4332     </td><td>25550683 </td><td>3        </td><td>123.5945 </td><td>-12.42568</td><td>133      </td><td>7119     </td></tr>\n",
       "\t<tr><th scope=row>8604</th><td>Australia</td><td>1670     </td><td>1500     </td><td>1160     </td><td>2        </td><td>4332     </td><td>25550683 </td><td>3        </td><td>158.8788 </td><td>-54.70976</td><td>139      </td><td>7267     </td></tr>\n",
       "</tbody>\n",
       "</table>\n"
      ],
      "text/latex": [
       "\\begin{tabular}{r|llllllllllll}\n",
       "  & Country & 2010 & 2011 & 2012 & 2013 & Total & Population & Density & long & lat & group & order\\\\\n",
       "\\hline\n",
       "\t7726 & Australia & 1670      & 1500      & 1160      & 2         & 4332      & 25550683  & 3         & 123.5945  & -12.42568 & 133       & 7115     \\\\\n",
       "\t7727 & Australia & 1670      & 1500      & 1160      & 2         & 4332      & 25550683  & 3         & 123.5952  & -12.43594 & 133       & 7116     \\\\\n",
       "\t7728 & Australia & 1670      & 1500      & 1160      & 2         & 4332      & 25550683  & 3         & 123.5732  & -12.43418 & 133       & 7117     \\\\\n",
       "\t7729 & Australia & 1670      & 1500      & 1160      & 2         & 4332      & 25550683  & 3         & 123.5725  & -12.42393 & 133       & 7118     \\\\\n",
       "\t7730 & Australia & 1670      & 1500      & 1160      & 2         & 4332      & 25550683  & 3         & 123.5945  & -12.42568 & 133       & 7119     \\\\\n",
       "\t8604 & Australia & 1670      & 1500      & 1160      & 2         & 4332      & 25550683  & 3         & 158.8788  & -54.70976 & 139       & 7267     \\\\\n",
       "\\end{tabular}\n"
      ],
      "text/markdown": [
       "\n",
       "| <!--/--> | Country | 2010 | 2011 | 2012 | 2013 | Total | Population | Density | long | lat | group | order |\n",
       "|---|---|---|---|---|---|---|---|---|---|---|---|---|\n",
       "| 7726 | Australia | 1670      | 1500      | 1160      | 2         | 4332      | 25550683  | 3         | 123.5945  | -12.42568 | 133       | 7115      |\n",
       "| 7727 | Australia | 1670      | 1500      | 1160      | 2         | 4332      | 25550683  | 3         | 123.5952  | -12.43594 | 133       | 7116      |\n",
       "| 7728 | Australia | 1670      | 1500      | 1160      | 2         | 4332      | 25550683  | 3         | 123.5732  | -12.43418 | 133       | 7117      |\n",
       "| 7729 | Australia | 1670      | 1500      | 1160      | 2         | 4332      | 25550683  | 3         | 123.5725  | -12.42393 | 133       | 7118      |\n",
       "| 7730 | Australia | 1670      | 1500      | 1160      | 2         | 4332      | 25550683  | 3         | 123.5945  | -12.42568 | 133       | 7119      |\n",
       "| 8604 | Australia | 1670      | 1500      | 1160      | 2         | 4332      | 25550683  | 3         | 158.8788  | -54.70976 | 139       | 7267      |\n",
       "\n"
      ],
      "text/plain": [
       "     Country   2010 2011 2012 2013 Total Population Density long     lat      \n",
       "7726 Australia 1670 1500 1160 2    4332  25550683   3       123.5945 -12.42568\n",
       "7727 Australia 1670 1500 1160 2    4332  25550683   3       123.5952 -12.43594\n",
       "7728 Australia 1670 1500 1160 2    4332  25550683   3       123.5732 -12.43418\n",
       "7729 Australia 1670 1500 1160 2    4332  25550683   3       123.5725 -12.42393\n",
       "7730 Australia 1670 1500 1160 2    4332  25550683   3       123.5945 -12.42568\n",
       "8604 Australia 1670 1500 1160 2    4332  25550683   3       158.8788 -54.70976\n",
       "     group order\n",
       "7726 133   7115 \n",
       "7727 133   7116 \n",
       "7728 133   7117 \n",
       "7729 133   7118 \n",
       "7730 133   7119 \n",
       "8604 139   7267 "
      ]
     },
     "metadata": {},
     "output_type": "display_data"
    }
   ],
   "source": [
    "#merge actual_revenue and world to get coordinate\n",
    "actual_revenues <- merge(country_revenues, world, by = 'Country', all='True')\n",
    "actual_revenues <- actual_revenues[order(actual_revenues$order),]\n",
    "actual_revenues <- actual_revenues[complete.cases(actual_revenues),]\n",
    "head(actual_revenues)"
   ]
  },
  {
   "cell_type": "code",
   "execution_count": 23,
   "id": "0ea69f15-d684-43d5-bfe4-d1ce9895dfa9",
   "metadata": {},
   "outputs": [
    {
     "data": {
      "text/html": [
       "<table>\n",
       "<thead><tr><th></th><th scope=col>Country</th><th scope=col>2010</th><th scope=col>2011</th><th scope=col>2012</th><th scope=col>2013</th><th scope=col>Total</th><th scope=col>Population</th><th scope=col>Density</th><th scope=col>long</th><th scope=col>lat</th><th scope=col>group</th><th scope=col>order</th></tr></thead>\n",
       "<tbody>\n",
       "\t<tr><th scope=row>7726</th><td>Australia</td><td>65360.29 </td><td>58706.85 </td><td>45399.96 </td><td>78.28    </td><td>169545.4 </td><td>25550683 </td><td>3        </td><td>123.5945 </td><td>-12.42568</td><td>133      </td><td>7115     </td></tr>\n",
       "\t<tr><th scope=row>7727</th><td>Australia</td><td>65360.29 </td><td>58706.85 </td><td>45399.96 </td><td>78.28    </td><td>169545.4 </td><td>25550683 </td><td>3        </td><td>123.5952 </td><td>-12.43594</td><td>133      </td><td>7116     </td></tr>\n",
       "\t<tr><th scope=row>7728</th><td>Australia</td><td>65360.29 </td><td>58706.85 </td><td>45399.96 </td><td>78.28    </td><td>169545.4 </td><td>25550683 </td><td>3        </td><td>123.5732 </td><td>-12.43418</td><td>133      </td><td>7117     </td></tr>\n",
       "\t<tr><th scope=row>7729</th><td>Australia</td><td>65360.29 </td><td>58706.85 </td><td>45399.96 </td><td>78.28    </td><td>169545.4 </td><td>25550683 </td><td>3        </td><td>123.5725 </td><td>-12.42393</td><td>133      </td><td>7118     </td></tr>\n",
       "\t<tr><th scope=row>7730</th><td>Australia</td><td>65360.29 </td><td>58706.85 </td><td>45399.96 </td><td>78.28    </td><td>169545.4 </td><td>25550683 </td><td>3        </td><td>123.5945 </td><td>-12.42568</td><td>133      </td><td>7119     </td></tr>\n",
       "\t<tr><th scope=row>8604</th><td>Australia</td><td>65360.29 </td><td>58706.85 </td><td>45399.96 </td><td>78.28    </td><td>169545.4 </td><td>25550683 </td><td>3        </td><td>158.8788 </td><td>-54.70976</td><td>139      </td><td>7267     </td></tr>\n",
       "</tbody>\n",
       "</table>\n"
      ],
      "text/latex": [
       "\\begin{tabular}{r|llllllllllll}\n",
       "  & Country & 2010 & 2011 & 2012 & 2013 & Total & Population & Density & long & lat & group & order\\\\\n",
       "\\hline\n",
       "\t7726 & Australia & 65360.29  & 58706.85  & 45399.96  & 78.28     & 169545.4  & 25550683  & 3         & 123.5945  & -12.42568 & 133       & 7115     \\\\\n",
       "\t7727 & Australia & 65360.29  & 58706.85  & 45399.96  & 78.28     & 169545.4  & 25550683  & 3         & 123.5952  & -12.43594 & 133       & 7116     \\\\\n",
       "\t7728 & Australia & 65360.29  & 58706.85  & 45399.96  & 78.28     & 169545.4  & 25550683  & 3         & 123.5732  & -12.43418 & 133       & 7117     \\\\\n",
       "\t7729 & Australia & 65360.29  & 58706.85  & 45399.96  & 78.28     & 169545.4  & 25550683  & 3         & 123.5725  & -12.42393 & 133       & 7118     \\\\\n",
       "\t7730 & Australia & 65360.29  & 58706.85  & 45399.96  & 78.28     & 169545.4  & 25550683  & 3         & 123.5945  & -12.42568 & 133       & 7119     \\\\\n",
       "\t8604 & Australia & 65360.29  & 58706.85  & 45399.96  & 78.28     & 169545.4  & 25550683  & 3         & 158.8788  & -54.70976 & 139       & 7267     \\\\\n",
       "\\end{tabular}\n"
      ],
      "text/markdown": [
       "\n",
       "| <!--/--> | Country | 2010 | 2011 | 2012 | 2013 | Total | Population | Density | long | lat | group | order |\n",
       "|---|---|---|---|---|---|---|---|---|---|---|---|---|\n",
       "| 7726 | Australia | 65360.29  | 58706.85  | 45399.96  | 78.28     | 169545.4  | 25550683  | 3         | 123.5945  | -12.42568 | 133       | 7115      |\n",
       "| 7727 | Australia | 65360.29  | 58706.85  | 45399.96  | 78.28     | 169545.4  | 25550683  | 3         | 123.5952  | -12.43594 | 133       | 7116      |\n",
       "| 7728 | Australia | 65360.29  | 58706.85  | 45399.96  | 78.28     | 169545.4  | 25550683  | 3         | 123.5732  | -12.43418 | 133       | 7117      |\n",
       "| 7729 | Australia | 65360.29  | 58706.85  | 45399.96  | 78.28     | 169545.4  | 25550683  | 3         | 123.5725  | -12.42393 | 133       | 7118      |\n",
       "| 7730 | Australia | 65360.29  | 58706.85  | 45399.96  | 78.28     | 169545.4  | 25550683  | 3         | 123.5945  | -12.42568 | 133       | 7119      |\n",
       "| 8604 | Australia | 65360.29  | 58706.85  | 45399.96  | 78.28     | 169545.4  | 25550683  | 3         | 158.8788  | -54.70976 | 139       | 7267      |\n",
       "\n"
      ],
      "text/plain": [
       "     Country   2010     2011     2012     2013  Total    Population Density\n",
       "7726 Australia 65360.29 58706.85 45399.96 78.28 169545.4 25550683   3      \n",
       "7727 Australia 65360.29 58706.85 45399.96 78.28 169545.4 25550683   3      \n",
       "7728 Australia 65360.29 58706.85 45399.96 78.28 169545.4 25550683   3      \n",
       "7729 Australia 65360.29 58706.85 45399.96 78.28 169545.4 25550683   3      \n",
       "7730 Australia 65360.29 58706.85 45399.96 78.28 169545.4 25550683   3      \n",
       "8604 Australia 65360.29 58706.85 45399.96 78.28 169545.4 25550683   3      \n",
       "     long     lat       group order\n",
       "7726 123.5945 -12.42568 133   7115 \n",
       "7727 123.5952 -12.43594 133   7116 \n",
       "7728 123.5732 -12.43418 133   7117 \n",
       "7729 123.5725 -12.42393 133   7118 \n",
       "7730 123.5945 -12.42568 133   7119 \n",
       "8604 158.8788 -54.70976 139   7267 "
      ]
     },
     "metadata": {},
     "output_type": "display_data"
    }
   ],
   "source": [
    "#merge normalized_revenue and world to get coordinate\n",
    "normalized_revenues <- merge(normalized_revenues, world, by = 'Country', all='True')\n",
    "normalized_revenues <- normalized_revenues[order(normalized_revenues$order),]\n",
    "normalized_revenues <- normalized_revenues[complete.cases(normalized_revenues),]\n",
    "head(normalized_revenues)"
   ]
  },
  {
   "cell_type": "code",
   "execution_count": 24,
   "id": "bc0ef469-8828-4bbe-83ba-74ea246d2a5e",
   "metadata": {},
   "outputs": [
    {
     "data": {
      "text/html": [
       "<table>\n",
       "<thead><tr><th scope=col>Country</th><th scope=col>Year</th><th scope=col>value</th></tr></thead>\n",
       "<tbody>\n",
       "\t<tr><td>Australia</td><td>2010     </td><td>1670     </td></tr>\n",
       "\t<tr><td>Australia</td><td>2010     </td><td>1670     </td></tr>\n",
       "\t<tr><td>Australia</td><td>2010     </td><td>1670     </td></tr>\n",
       "\t<tr><td>Australia</td><td>2010     </td><td>1670     </td></tr>\n",
       "\t<tr><td>Australia</td><td>2010     </td><td>1670     </td></tr>\n",
       "\t<tr><td>Australia</td><td>2010     </td><td>1670     </td></tr>\n",
       "</tbody>\n",
       "</table>\n"
      ],
      "text/latex": [
       "\\begin{tabular}{r|lll}\n",
       " Country & Year & value\\\\\n",
       "\\hline\n",
       "\t Australia & 2010      & 1670     \\\\\n",
       "\t Australia & 2010      & 1670     \\\\\n",
       "\t Australia & 2010      & 1670     \\\\\n",
       "\t Australia & 2010      & 1670     \\\\\n",
       "\t Australia & 2010      & 1670     \\\\\n",
       "\t Australia & 2010      & 1670     \\\\\n",
       "\\end{tabular}\n"
      ],
      "text/markdown": [
       "\n",
       "| Country | Year | value |\n",
       "|---|---|---|\n",
       "| Australia | 2010      | 1670      |\n",
       "| Australia | 2010      | 1670      |\n",
       "| Australia | 2010      | 1670      |\n",
       "| Australia | 2010      | 1670      |\n",
       "| Australia | 2010      | 1670      |\n",
       "| Australia | 2010      | 1670      |\n",
       "\n"
      ],
      "text/plain": [
       "  Country   Year value\n",
       "1 Australia 2010 1670 \n",
       "2 Australia 2010 1670 \n",
       "3 Australia 2010 1670 \n",
       "4 Australia 2010 1670 \n",
       "5 Australia 2010 1670 \n",
       "6 Australia 2010 1670 "
      ]
     },
     "metadata": {},
     "output_type": "display_data"
    }
   ],
   "source": [
    "#convert from wide to long\n",
    "actual_revenues_long <- melt(actual_revenues, id = 'Country', measure = c('2010', '2011', '2012', '2013'))\n",
    "actual_revenues_long <- actual_revenues_long %>% rename('Year' = 'variable')\n",
    "head(actual_revenues_long)"
   ]
  },
  {
   "cell_type": "code",
   "execution_count": 25,
   "id": "11c51498-a18f-4682-a02c-184d036c6bd8",
   "metadata": {},
   "outputs": [
    {
     "data": {
      "text/html": [
       "<table>\n",
       "<thead><tr><th scope=col>Country</th><th scope=col>Year</th><th scope=col>value</th></tr></thead>\n",
       "<tbody>\n",
       "\t<tr><td>Australia</td><td>2010     </td><td>65360.29 </td></tr>\n",
       "\t<tr><td>Australia</td><td>2010     </td><td>65360.29 </td></tr>\n",
       "\t<tr><td>Australia</td><td>2010     </td><td>65360.29 </td></tr>\n",
       "\t<tr><td>Australia</td><td>2010     </td><td>65360.29 </td></tr>\n",
       "\t<tr><td>Australia</td><td>2010     </td><td>65360.29 </td></tr>\n",
       "\t<tr><td>Australia</td><td>2010     </td><td>65360.29 </td></tr>\n",
       "</tbody>\n",
       "</table>\n"
      ],
      "text/latex": [
       "\\begin{tabular}{r|lll}\n",
       " Country & Year & value\\\\\n",
       "\\hline\n",
       "\t Australia & 2010      & 65360.29 \\\\\n",
       "\t Australia & 2010      & 65360.29 \\\\\n",
       "\t Australia & 2010      & 65360.29 \\\\\n",
       "\t Australia & 2010      & 65360.29 \\\\\n",
       "\t Australia & 2010      & 65360.29 \\\\\n",
       "\t Australia & 2010      & 65360.29 \\\\\n",
       "\\end{tabular}\n"
      ],
      "text/markdown": [
       "\n",
       "| Country | Year | value |\n",
       "|---|---|---|\n",
       "| Australia | 2010      | 65360.29  |\n",
       "| Australia | 2010      | 65360.29  |\n",
       "| Australia | 2010      | 65360.29  |\n",
       "| Australia | 2010      | 65360.29  |\n",
       "| Australia | 2010      | 65360.29  |\n",
       "| Australia | 2010      | 65360.29  |\n",
       "\n"
      ],
      "text/plain": [
       "  Country   Year value   \n",
       "1 Australia 2010 65360.29\n",
       "2 Australia 2010 65360.29\n",
       "3 Australia 2010 65360.29\n",
       "4 Australia 2010 65360.29\n",
       "5 Australia 2010 65360.29\n",
       "6 Australia 2010 65360.29"
      ]
     },
     "metadata": {},
     "output_type": "display_data"
    }
   ],
   "source": [
    "#convert from wide to long\n",
    "normalized_revenues_long <- melt(normalized_revenues, id = 'Country', measure = c('2010', '2011', '2012', '2013'))\n",
    "normalized_revenues_long <- normalized_revenues_long %>% rename('Year' = 'variable')\n",
    "head(normalized_revenues_long)"
   ]
  },
  {
   "cell_type": "code",
   "execution_count": 26,
   "id": "dff606f3-16c3-40bf-a4dc-f28b57000d02",
   "metadata": {},
   "outputs": [],
   "source": [
    "# define shiny user interface\n",
    "# define dashboard layout\n",
    "ui <- navbarPage(\"Global Video Game Sales\", theme = shinytheme(\"flatly\"),\n",
    "       #define first tab\n",
    "       tabPanel(\"Sales Over Time\",\n",
    "                sidebarLayout(\n",
    "                  #define settings\n",
    "                  sidebarPanel(\n",
    "                    style = 'background: ghostwhite',\n",
    "                    h3('Settings'),\n",
    "                      #define checkbox input\n",
    "                    checkboxGroupInput(\"region\", \"Region\", \n",
    "                                       choices = unique(normalized_sales_long$Region), \n",
    "                                       selected = unique(normalized_sales_long$Region)),\n",
    "                    #define slider bar\n",
    "                    sliderInput(\"year_range\", \"Year Range\", \n",
    "                                min = 1979, max = 2019, value = 1979, step = 1, \n",
    "                                animate = animationOptions(500,loop = F), dragRange = T),\n",
    "                    #add description\n",
    "                    p('NA: North America'),\n",
    "                    p('PAL: Asia, Africa, Europe, South America, Oceania'),\n",
    "                    p('JP: Japan'),\n",
    "                    p('Other: Other part of the world')\n",
    "                  ),\n",
    "                  #define visualizations area\n",
    "                  mainPanel(\n",
    "                    h3(\"Number of Sales Over Time\", align='center'),\n",
    "                    plotOutput('vis1'),\n",
    "                    p('Data was collected from VGChartz.'),\n",
    "                    p('The plots display the sales of video games in different regions of the world between 1979 and 2019. The sales \n",
    "                       were normalized by region populations. The decline in sales after 2008 can be due to the lack of raw data from \n",
    "                       the website (e.g., no relevant information of Nintendo Switch) and the rise of mobile games in recent years.'),\n",
    "                    plotOutput('vis2')\n",
    "                  )\n",
    "              )\n",
    "       ),\n",
    "       #define second tab\n",
    "       tabPanel(\"Countries Revenues\",\n",
    "                sidebarLayout(\n",
    "                  #define settings\n",
    "                  sidebarPanel(\n",
    "                      style = 'background: ghostwhite',\n",
    "                      h3('Settings'),\n",
    "                      #define select input\n",
    "                      selectInput(\"mode\", \"Mode\", \n",
    "                                  choices = c('Normalized', 'Actual'),\n",
    "                                  selected = 'Normalized'),\n",
    "                      p('Actual: Raw revenues in billions US dollars'),\n",
    "                      p('Normalized: Normalized revenues by billions population')),\n",
    "                  #define visualization area\n",
    "                  mainPanel(\n",
    "                    plotlyOutput('vis3'),\n",
    "                    p('Data was collected from Fandom.'),\n",
    "                    p('The map above shows the average video game revenues made by different countries between 2010 and 2013, and tooltip is\n",
    "                    enabled for searching for more information. Whereas, the barchart below displays the revenues each year. Japan has the \n",
    "                    highest revenues for both actual and normalized data.'),\n",
    "                    plotOutput('vis4')\n",
    "                  ))\n",
    "          ),\n",
    "       #define the third tab\n",
    "       tabPanel(\"Sales by Categories\",\n",
    "                sidebarLayout(\n",
    "                  #define settings\n",
    "                  sidebarPanel(\n",
    "                    style = 'background: ghostwhite',\n",
    "                    h3('Settings'),\n",
    "                    #define select input\n",
    "                    selectInput('cat', 'Categories',\n",
    "                                choices = c('Publisher', 'Platform', 'Genre'),\n",
    "                                selected = 'Publisher'),\n",
    "                    #define slider bar\n",
    "                    sliderInput(\"range\", \"Range Bar\",\n",
    "                                min = 1, max = 60,\n",
    "                                value = 15, step = 1),\n",
    "                    #define text input for search\n",
    "                    textInput('pub_name', 'Enter Publisher', 'Capcom'),\n",
    "                    textInput('pla_name', 'Enter Platform', 'PS4'),\n",
    "                    textInput('gen_name', 'Enter Genre', 'Action'),\n",
    "                    p('Publisher: company that publishes video games.'),\n",
    "                    p('Platform: console where video game can be played at.'),\n",
    "                    p('Genre: genre of games (e.g., Action, Shooting, Sports).')\n",
    "                  ),\n",
    "                  #deine visualization\n",
    "                  mainPanel(\n",
    "                    plotOutput('vis5'),\n",
    "                    p('Data was collected from VGChartz.'),\n",
    "                    textOutput('text'),\n",
    "                    plotlyOutput('vis6')\n",
    "                    )\n",
    "                  ))\n",
    "       \n",
    "       )"
   ]
  },
  {
   "cell_type": "code",
   "execution_count": 27,
   "id": "8ec0a8b0-a106-4f02-8be1-b0df703c6f3b",
   "metadata": {},
   "outputs": [],
   "source": [
    "#create world map\n",
    "world_map <- borders(\"world\", colour=\"gray50\", fill=\"white\")\n",
    "#define a function to plot the revenues on the map\n",
    "revenue_map <- function(dataframe){\n",
    "    ggplot(dataframe, aes(long, lat, group = group, \n",
    "                             label = Country,\n",
    "                             label2 = Population)) + \n",
    "    world_map + \n",
    "    coord_sf(crs = st_crs('+proj=moll'),\n",
    "             xlim = c(-180, 195), ylim = c(-60, 85),\n",
    "             expand = F) + \n",
    "    theme_bw() + \n",
    "    geom_polygon(aes(fill = Total)) +\n",
    "    scale_fill_viridis_c(option = \"viridis\") + \n",
    "    theme(legend.position=\"bottom\") + \n",
    "    guides(size=FALSE) +\n",
    "    ylab('Latitude') + xlab('Longitude')\n",
    "}"
   ]
  },
  {
   "cell_type": "code",
   "execution_count": 28,
   "id": "ac92b02c-8cc8-423e-90ba-c14448bbb206",
   "metadata": {},
   "outputs": [],
   "source": [
    "#define a function to plot the revenue barchart\n",
    "revenue_bar <- function(dataframe){\n",
    "    ggplot(dataframe, aes(Country, value, fill=Year)) +\n",
    "    geom_bar(stat='identity', position = \"dodge\", width = 0.8) + \n",
    "    theme_light(base_size = 12) + coord_flip() +\n",
    "    theme(legend.position=\"bottom\") +\n",
    "    theme(axis.title.y=element_blank())\n",
    "}"
   ]
  },
  {
   "cell_type": "code",
   "execution_count": 29,
   "id": "b053c380-00a5-4b02-8855-b93c74d71994",
   "metadata": {},
   "outputs": [],
   "source": [
    "#define a function to plot the barchart for publisher, platform and genre\n",
    "feature_plot <- function(feature, slide_point){\n",
    "    temp <- actual_sales %>%\n",
    "    group_by(!!enquo(feature)) %>%\n",
    "    summarise(sales = sum(Global_Sales))\n",
    "    temp <- temp[order(-temp$sales),]\n",
    "    ggplot(temp[1:slide_point,], aes(reorder(!!enquo(feature), sales), sales, fill = sales)) + \n",
    "    geom_bar(stat='identity') + \n",
    "    ylab('Global Sales (million)') +\n",
    "    theme_light(base_size = 12) + coord_flip() + \n",
    "    scale_fill_gradient(low = \"yellow\", high = \"red\", na.value = NA) +\n",
    "    theme(axis.title.y = element_blank(), plot.title = element_text(size=22))\n",
    "}"
   ]
  },
  {
   "cell_type": "code",
   "execution_count": 30,
   "id": "0f70d108-1a99-453b-902f-455f3b1781f9",
   "metadata": {},
   "outputs": [],
   "source": [
    "#define shiny server\n",
    "server <- function(input, output, session) {\n",
    "  #tab 1 first plot\n",
    "  output$vis1 = renderPlot({\n",
    "      normalized_sales_long %>% \n",
    "      filter(Region %in% input$region) %>%\n",
    "      ggplot(aes(Year, value, col = Region)) + \n",
    "          xlim(1979, input$year_range) +\n",
    "          geom_line() + theme_light() +\n",
    "          theme(text = element_text(size = 15)) +\n",
    "          ylab('Number of sales)') + xlab('Year')\n",
    "  })\n",
    "  \n",
    "  #tab 1 second plot\n",
    "  output$vis2 = renderPlot({\n",
    "    normalized_sales_long %>%\n",
    "      filter(Region %in% input$region) %>%\n",
    "      ggplot(aes(Year, value, fill = Region)) +\n",
    "      geom_bar(stat = 'identity') +\n",
    "      theme_light() + theme(text = element_text(size = 15))+\n",
    "      facet_wrap(~Region, 1, 5) + \n",
    "      ylab('Number of sales') + xlab('Year')\n",
    "  })\n",
    "  \n",
    "  #tab 2 first plot\n",
    "  output$vis3 = renderPlotly({\n",
    "    if(input$mode == 'Normalized'){\n",
    "      ggplotly(revenue_map(normalized_revenues) +  \n",
    "               ggtitle('Normalized Revenue Distribution 2010 to 2013'))\n",
    "    } else{\n",
    "        ggplotly(revenue_map(Actual_revenues) +  \n",
    "               ggtitle('Actual Revenue Distribution 2010 to 2013'))\n",
    "    }\n",
    "  })\n",
    "  \n",
    "  #tab 2 second plot\n",
    "  output$vis4 = renderPlot({\n",
    "    if(input$mode == 'Normalized'){\n",
    "      revenue_bar(normalized_revenues_long) + ylab('Normalized Revenue')\n",
    "    } else{\n",
    "        revenue_bar(actual_revenues_long) + ylab('Actual Revenue')\n",
    "    }\n",
    "  })\n",
    "\n",
    "  #tab 3 first plot\n",
    "  output$vis5 = renderPlot({\n",
    "      slide_point <- input$range\n",
    "      if(input$cat == 'Publisher'){\n",
    "          feature_plot(Publisher, slide_point) + ggtitle('Top Sales Publishers')\n",
    "      } else if(input$cat == 'Platform'){\n",
    "          feature_plot(Platform, slide_point) + ggtitle('Top Sales Platforms')\n",
    "      } else{\n",
    "          feature_plot(Genre, slide_point) + ggtitle('Top Sales Genres')\n",
    "      }\n",
    "  })\n",
    "  \n",
    "  #tab 3 description\n",
    "  output$text = renderText({\n",
    "    if(input$cat == 'Publisher'){\n",
    "      'The bar chart above shows the overall global sales for different publishers in descending order. Whereas, the scatter plot below \n",
    "       displays the sales against published year for selected publisher.'\n",
    "    } else if(input$cat == 'Platform'){\n",
    "      'The bar chart above shows the overall global sales for different platforms in descending order. Whereas, the bar chart below displays\n",
    "      the sales of different games for selected platform, and tooltip is enabled for searching more information.'\n",
    "    } else {\n",
    "      'The bar chart above shows the overall global sales for different genres in descending order. Whereas, the bar chart below displays\n",
    "      the sales of different games for selected genre, and tooltip is enabled for searching more information. Moreover, some games were\n",
    "      publsihed in different platformed as shown.'\n",
    "    }\n",
    "  })\n",
    "    \n",
    "  #tab 3 second plot\n",
    "  #function is not defined for this plot as there are many differences within\n",
    "  output$vis6 = renderPlotly({\n",
    "    if(input$cat == 'Publisher'){\n",
    "      temp <- actual_sales %>% filter(Publisher == input$pub_name) %>%\n",
    "      select('Name', 'Year', 'Genre', 'Platform', 'Publisher', 'Global_Sales') %>%\n",
    "      group_by(Publisher) %>%\n",
    "      ggplot(aes(Year, Global_Sales, label = Name, label2 = Platform, label3 = Genre)) + \n",
    "      geom_point(aes(col = Global_Sales)) + ggtitle('Sales against Year') +\n",
    "      ylab('Global sales (millions)') + theme_light()\n",
    "      ggplotly(temp, tooltip = c('y', 'label', 'label2', 'label3'))\n",
    "        \n",
    "    } else if(input$cat == 'Platform'){\n",
    "      temp <- actual_sales %>%\n",
    "      filter(Platform == input$pla_name)\n",
    "      temp <- temp[order(-temp$Global_Sales),]\n",
    "      temp <- ggplot(temp[1:input$pub_range,], \n",
    "                     aes(reorder(Name, Global_Sales), Global_Sales, fill = Global_Sales, label = Year, label2 = Publisher)) + \n",
    "        geom_bar(stat='identity') + coord_flip() +\n",
    "        ggtitle('Top Sales Games') + ylab('Global Sales (million)') + theme_light()\n",
    "        ggplotly(temp, tooltip = c('y', 'label', 'label2'))\n",
    "        \n",
    "    } else{\n",
    "      temp <- actual_sales %>% filter(Genre == input$gen_name)\n",
    "      temp <- temp[order(-temp$Global_Sales),]\n",
    "      temp <- ggplot(temp[1:input$pub_range,], \n",
    "                     aes(reorder(Name, Global_Sales), Global_Sales, fill = Global_Sales, label = Year, label2 = Platform)) + \n",
    "        geom_bar(stat='identity') + coord_flip() + ggtitle('Top Sales Games') + ylab('Global Sales (million)') + \n",
    "        theme_light() + theme(axis.title.y = element_blank())\n",
    "      ggplotly(temp, tooltip = c('y', 'label', 'label2'))\n",
    "    }\n",
    "    \n",
    "  })\n",
    "  \n",
    "}"
   ]
  },
  {
   "cell_type": "code",
   "execution_count": null,
   "id": "ad31e393-f8bb-4aa0-9045-4c9d64c198bc",
   "metadata": {},
   "outputs": [
    {
     "name": "stderr",
     "output_type": "stream",
     "text": [
      "\n",
      "Listening on http://127.0.0.1:6875\n",
      "Warning message:\n",
      "\"Removed 152 rows containing missing values (geom_path).\""
     ]
    }
   ],
   "source": [
    "#call the shiny app\n",
    "shinyApp(ui, server)"
   ]
  }
 ],
 "metadata": {
  "kernelspec": {
   "display_name": "R",
   "language": "R",
   "name": "ir"
  },
  "language_info": {
   "codemirror_mode": "r",
   "file_extension": ".r",
   "mimetype": "text/x-r-source",
   "name": "R",
   "pygments_lexer": "r",
   "version": "3.6.1"
  }
 },
 "nbformat": 4,
 "nbformat_minor": 5
}
